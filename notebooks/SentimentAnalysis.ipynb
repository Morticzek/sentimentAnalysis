{
 "cells": [
  {
   "cell_type": "code",
   "execution_count": 1,
   "metadata": {
    "id": "REY7u97j0L6W",
    "pycharm": {
     "name": "#%%\n"
    }
   },
   "outputs": [],
   "source": [
    "# DataFrame\n",
    "import pandas as pd\n",
    "\n",
    "# Matplot\n",
    "import matplotlib.pyplot as plt\n",
    "%matplotlib inline\n",
    "\n",
    "# Scikit-learn\n",
    "from sklearn.model_selection import train_test_split\n",
    "from sklearn.preprocessing import LabelEncoder\n",
    "from sklearn.metrics import confusion_matrix, classification_report, accuracy_score\n",
    "\n",
    "# Keras\n",
    "from keras.preprocessing.text import Tokenizer\n",
    "from keras.preprocessing.sequence import pad_sequences\n",
    "from keras.models import Sequential\n",
    "from keras.layers import Activation, Dense, Dropout, Embedding, Flatten, Conv1D, MaxPooling1D, LSTM\n",
    "from keras import utils\n",
    "from keras.callbacks import ReduceLROnPlateau, EarlyStopping\n",
    "\n",
    "# nltk\n",
    "import nltk\n",
    "from nltk.corpus import stopwords\n",
    "from  nltk.stem import SnowballStemmer\n",
    "\n",
    "# Word2vec\n",
    "import gensim\n",
    "\n",
    "# Utility\n",
    "import re\n",
    "import numpy as np\n",
    "import os\n",
    "from collections import Counter\n",
    "import time\n",
    "import pickle\n",
    "import itertools"
   ]
  },
  {
   "cell_type": "code",
   "execution_count": 17,
   "metadata": {
    "colab": {
     "base_uri": "https://localhost:8080/"
    },
    "id": "N3N1nKXQ05JN",
    "outputId": "20b25ce9-b51f-43ee-87ab-51372c8e9843",
    "pycharm": {
     "name": "#%%\n"
    }
   },
   "outputs": [
    {
     "output_type": "stream",
     "name": "stderr",
     "text": [
      "[nltk_data] Downloading package stopwords to /root/nltk_data...\n",
      "[nltk_data]   Unzipping corpora/stopwords.zip.\n"
     ]
    },
    {
     "output_type": "execute_result",
     "data": {
      "text/plain": [
       "True"
      ]
     },
     "metadata": {},
     "execution_count": 17
    }
   ],
   "source": [
    "nltk.download('stopwords')"
   ]
  },
  {
   "cell_type": "code",
   "execution_count": 2,
   "metadata": {
    "id": "ficYz4Zo05fE",
    "pycharm": {
     "name": "#%%\n"
    }
   },
   "outputs": [],
   "source": [
    "# DATASET\n",
    "DATASET_COLUMNS = [\"target\", \"ids\", \"date\", \"flag\", \"user\", \"text\"]\n",
    "DATASET_ENCODING = \"ISO-8859-1\"\n",
    "TRAIN_SIZE = 0.8\n",
    "\n",
    "# TEXT CLEANING\n",
    "TEXT_CLEANING_RE = \"@\\S+|https?:\\S+|http?:\\S|[^A-Za-z0-9]+\"\n",
    "\n",
    "# WORD2VEC \n",
    "W2V_SIZE = 300\n",
    "W2V_WINDOW = 7\n",
    "W2V_EPOCH = 32\n",
    "W2V_MIN_COUNT = 10\n",
    "\n",
    "# KERAS\n",
    "SEQUENCE_LENGTH = 300\n",
    "EPOCHS = 12\n",
    "BATCH_SIZE = 1024\n",
    "\n",
    "# SENTIMENT\n",
    "POSITIVE = \"POSITIVE\"\n",
    "NEGATIVE = \"NEGATIVE\"\n",
    "NEUTRAL = \"NEUTRAL\"\n",
    "SENTIMENT_THRESHOLDS = (0.4, 0.7)\n",
    "\n",
    "# EXPORT\n",
    "KERAS_MODEL = \"model.h5\"\n",
    "WORD2VEC_MODEL = \"model.w2v\"\n",
    "TOKENIZER_MODEL = \"tokenizer.pkl\"\n",
    "ENCODER_MODEL = \"encoder.pkl\""
   ]
  },
  {
   "cell_type": "code",
   "execution_count": null,
   "metadata": {
    "colab": {
     "base_uri": "https://localhost:8080/"
    },
    "id": "zOShA0qF1qv7",
    "outputId": "635d9d1b-2264-48bb-84fa-d224731146f9",
    "pycharm": {
     "name": "#%%\n"
    }
   },
   "outputs": [
    {
     "name": "stdout",
     "output_type": "stream",
     "text": [
      "Drive already mounted at /content/drive; to attempt to forcibly remount, call drive.mount(\"/content/drive\", force_remount=True).\n"
     ]
    }
   ],
   "source": [
    "from google.colab import drive\n",
    "\n",
    "drive.mount('/content/drive')"
   ]
  },
  {
   "cell_type": "code",
   "execution_count": 3,
   "metadata": {
    "id": "xK4-1s1b05yT",
    "pycharm": {
     "name": "#%%\n"
    }
   },
   "outputs": [],
   "source": [
    "training_data = '/content/drive/MyDrive/Colab Notebooks/Colab Data/training.1600000.processed.noemoticon.csv'\n",
    "df = pd.read_csv(training_data, encoding =DATASET_ENCODING , names=DATASET_COLUMNS)"
   ]
  },
  {
   "cell_type": "code",
   "execution_count": 4,
   "metadata": {
    "colab": {
     "base_uri": "https://localhost:8080/",
     "height": 224
    },
    "id": "8EdX0MkE1Ls2",
    "outputId": "d18a2513-79a1-4f84-a5ec-ac5c4f455c48",
    "pycharm": {
     "name": "#%%\n"
    }
   },
   "outputs": [
    {
     "output_type": "stream",
     "name": "stdout",
     "text": [
      "Dataset size: 1600000\n"
     ]
    },
    {
     "output_type": "execute_result",
     "data": {
      "text/plain": [
       "   target         ids                          date      flag  \\\n",
       "0       0  1467810369  Mon Apr 06 22:19:45 PDT 2009  NO_QUERY   \n",
       "1       0  1467810672  Mon Apr 06 22:19:49 PDT 2009  NO_QUERY   \n",
       "2       0  1467810917  Mon Apr 06 22:19:53 PDT 2009  NO_QUERY   \n",
       "3       0  1467811184  Mon Apr 06 22:19:57 PDT 2009  NO_QUERY   \n",
       "4       0  1467811193  Mon Apr 06 22:19:57 PDT 2009  NO_QUERY   \n",
       "\n",
       "              user                                               text  \n",
       "0  _TheSpecialOne_  @switchfoot http://twitpic.com/2y1zl - Awww, t...  \n",
       "1    scotthamilton  is upset that he can't update his Facebook by ...  \n",
       "2         mattycus  @Kenichan I dived many times for the ball. Man...  \n",
       "3          ElleCTF    my whole body feels itchy and like its on fire   \n",
       "4           Karoli  @nationwideclass no, it's not behaving at all....  "
      ],
      "text/html": [
       "\n",
       "  <div id=\"df-a4bd9a3f-8845-4621-88be-6f591ac613eb\">\n",
       "    <div class=\"colab-df-container\">\n",
       "      <div>\n",
       "<style scoped>\n",
       "    .dataframe tbody tr th:only-of-type {\n",
       "        vertical-align: middle;\n",
       "    }\n",
       "\n",
       "    .dataframe tbody tr th {\n",
       "        vertical-align: top;\n",
       "    }\n",
       "\n",
       "    .dataframe thead th {\n",
       "        text-align: right;\n",
       "    }\n",
       "</style>\n",
       "<table border=\"1\" class=\"dataframe\">\n",
       "  <thead>\n",
       "    <tr style=\"text-align: right;\">\n",
       "      <th></th>\n",
       "      <th>target</th>\n",
       "      <th>ids</th>\n",
       "      <th>date</th>\n",
       "      <th>flag</th>\n",
       "      <th>user</th>\n",
       "      <th>text</th>\n",
       "    </tr>\n",
       "  </thead>\n",
       "  <tbody>\n",
       "    <tr>\n",
       "      <th>0</th>\n",
       "      <td>0</td>\n",
       "      <td>1467810369</td>\n",
       "      <td>Mon Apr 06 22:19:45 PDT 2009</td>\n",
       "      <td>NO_QUERY</td>\n",
       "      <td>_TheSpecialOne_</td>\n",
       "      <td>@switchfoot http://twitpic.com/2y1zl - Awww, t...</td>\n",
       "    </tr>\n",
       "    <tr>\n",
       "      <th>1</th>\n",
       "      <td>0</td>\n",
       "      <td>1467810672</td>\n",
       "      <td>Mon Apr 06 22:19:49 PDT 2009</td>\n",
       "      <td>NO_QUERY</td>\n",
       "      <td>scotthamilton</td>\n",
       "      <td>is upset that he can't update his Facebook by ...</td>\n",
       "    </tr>\n",
       "    <tr>\n",
       "      <th>2</th>\n",
       "      <td>0</td>\n",
       "      <td>1467810917</td>\n",
       "      <td>Mon Apr 06 22:19:53 PDT 2009</td>\n",
       "      <td>NO_QUERY</td>\n",
       "      <td>mattycus</td>\n",
       "      <td>@Kenichan I dived many times for the ball. Man...</td>\n",
       "    </tr>\n",
       "    <tr>\n",
       "      <th>3</th>\n",
       "      <td>0</td>\n",
       "      <td>1467811184</td>\n",
       "      <td>Mon Apr 06 22:19:57 PDT 2009</td>\n",
       "      <td>NO_QUERY</td>\n",
       "      <td>ElleCTF</td>\n",
       "      <td>my whole body feels itchy and like its on fire</td>\n",
       "    </tr>\n",
       "    <tr>\n",
       "      <th>4</th>\n",
       "      <td>0</td>\n",
       "      <td>1467811193</td>\n",
       "      <td>Mon Apr 06 22:19:57 PDT 2009</td>\n",
       "      <td>NO_QUERY</td>\n",
       "      <td>Karoli</td>\n",
       "      <td>@nationwideclass no, it's not behaving at all....</td>\n",
       "    </tr>\n",
       "  </tbody>\n",
       "</table>\n",
       "</div>\n",
       "      <button class=\"colab-df-convert\" onclick=\"convertToInteractive('df-a4bd9a3f-8845-4621-88be-6f591ac613eb')\"\n",
       "              title=\"Convert this dataframe to an interactive table.\"\n",
       "              style=\"display:none;\">\n",
       "        \n",
       "  <svg xmlns=\"http://www.w3.org/2000/svg\" height=\"24px\"viewBox=\"0 0 24 24\"\n",
       "       width=\"24px\">\n",
       "    <path d=\"M0 0h24v24H0V0z\" fill=\"none\"/>\n",
       "    <path d=\"M18.56 5.44l.94 2.06.94-2.06 2.06-.94-2.06-.94-.94-2.06-.94 2.06-2.06.94zm-11 1L8.5 8.5l.94-2.06 2.06-.94-2.06-.94L8.5 2.5l-.94 2.06-2.06.94zm10 10l.94 2.06.94-2.06 2.06-.94-2.06-.94-.94-2.06-.94 2.06-2.06.94z\"/><path d=\"M17.41 7.96l-1.37-1.37c-.4-.4-.92-.59-1.43-.59-.52 0-1.04.2-1.43.59L10.3 9.45l-7.72 7.72c-.78.78-.78 2.05 0 2.83L4 21.41c.39.39.9.59 1.41.59.51 0 1.02-.2 1.41-.59l7.78-7.78 2.81-2.81c.8-.78.8-2.07 0-2.86zM5.41 20L4 18.59l7.72-7.72 1.47 1.35L5.41 20z\"/>\n",
       "  </svg>\n",
       "      </button>\n",
       "      \n",
       "  <style>\n",
       "    .colab-df-container {\n",
       "      display:flex;\n",
       "      flex-wrap:wrap;\n",
       "      gap: 12px;\n",
       "    }\n",
       "\n",
       "    .colab-df-convert {\n",
       "      background-color: #E8F0FE;\n",
       "      border: none;\n",
       "      border-radius: 50%;\n",
       "      cursor: pointer;\n",
       "      display: none;\n",
       "      fill: #1967D2;\n",
       "      height: 32px;\n",
       "      padding: 0 0 0 0;\n",
       "      width: 32px;\n",
       "    }\n",
       "\n",
       "    .colab-df-convert:hover {\n",
       "      background-color: #E2EBFA;\n",
       "      box-shadow: 0px 1px 2px rgba(60, 64, 67, 0.3), 0px 1px 3px 1px rgba(60, 64, 67, 0.15);\n",
       "      fill: #174EA6;\n",
       "    }\n",
       "\n",
       "    [theme=dark] .colab-df-convert {\n",
       "      background-color: #3B4455;\n",
       "      fill: #D2E3FC;\n",
       "    }\n",
       "\n",
       "    [theme=dark] .colab-df-convert:hover {\n",
       "      background-color: #434B5C;\n",
       "      box-shadow: 0px 1px 3px 1px rgba(0, 0, 0, 0.15);\n",
       "      filter: drop-shadow(0px 1px 2px rgba(0, 0, 0, 0.3));\n",
       "      fill: #FFFFFF;\n",
       "    }\n",
       "  </style>\n",
       "\n",
       "      <script>\n",
       "        const buttonEl =\n",
       "          document.querySelector('#df-a4bd9a3f-8845-4621-88be-6f591ac613eb button.colab-df-convert');\n",
       "        buttonEl.style.display =\n",
       "          google.colab.kernel.accessAllowed ? 'block' : 'none';\n",
       "\n",
       "        async function convertToInteractive(key) {\n",
       "          const element = document.querySelector('#df-a4bd9a3f-8845-4621-88be-6f591ac613eb');\n",
       "          const dataTable =\n",
       "            await google.colab.kernel.invokeFunction('convertToInteractive',\n",
       "                                                     [key], {});\n",
       "          if (!dataTable) return;\n",
       "\n",
       "          const docLinkHtml = 'Like what you see? Visit the ' +\n",
       "            '<a target=\"_blank\" href=https://colab.research.google.com/notebooks/data_table.ipynb>data table notebook</a>'\n",
       "            + ' to learn more about interactive tables.';\n",
       "          element.innerHTML = '';\n",
       "          dataTable['output_type'] = 'display_data';\n",
       "          await google.colab.output.renderOutput(dataTable, element);\n",
       "          const docLink = document.createElement('div');\n",
       "          docLink.innerHTML = docLinkHtml;\n",
       "          element.appendChild(docLink);\n",
       "        }\n",
       "      </script>\n",
       "    </div>\n",
       "  </div>\n",
       "  "
      ]
     },
     "metadata": {},
     "execution_count": 4
    }
   ],
   "source": [
    "print('Dataset size:', len(df))\n",
    "df.head(5)"
   ]
  },
  {
   "cell_type": "code",
   "execution_count": 5,
   "metadata": {
    "id": "ugh25BPm1MTS",
    "pycharm": {
     "name": "#%%\n"
    }
   },
   "outputs": [],
   "source": [
    "decode_map = {0: \"NEGATIVE\", 2: \"NEUTRAL\", 4: \"POSITIVE\"}\n",
    "def decode_sentiment(label):\n",
    "  return decode_map[int(label)]"
   ]
  },
  {
   "cell_type": "code",
   "execution_count": 6,
   "metadata": {
    "colab": {
     "base_uri": "https://localhost:8080/"
    },
    "id": "IXWX5BmU1MNh",
    "outputId": "86decb0c-47d0-4252-fde2-7e572dbec715",
    "pycharm": {
     "name": "#%%\n"
    }
   },
   "outputs": [
    {
     "output_type": "stream",
     "name": "stdout",
     "text": [
      "CPU times: user 485 ms, sys: 3.44 ms, total: 488 ms\n",
      "Wall time: 494 ms\n"
     ]
    }
   ],
   "source": [
    "%%time\n",
    "df.target = df.target.apply(lambda x: decode_sentiment(x))"
   ]
  },
  {
   "cell_type": "code",
   "execution_count": 7,
   "metadata": {
    "colab": {
     "base_uri": "https://localhost:8080/",
     "height": 516
    },
    "id": "ZO845YRE1MHq",
    "outputId": "7f711ac3-6d53-4e18-b613-ed156e63bff0",
    "pycharm": {
     "name": "#%%\n"
    }
   },
   "outputs": [
    {
     "output_type": "execute_result",
     "data": {
      "text/plain": [
       "Text(0.5, 1.0, 'Dataset labels distribuition')"
      ]
     },
     "metadata": {},
     "execution_count": 7
    },
    {
     "output_type": "display_data",
     "data": {
      "text/plain": [
       "<Figure size 1152x576 with 1 Axes>"
      ],
      "image/png": "[encoded data removed]"
     },
     "metadata": {
      "needs_background": "light"
     }
    }
   ],
   "source": [
    "target_cnt = Counter(df.target)\n",
    "\n",
    "plt.figure(figsize=(16,8))\n",
    "plt.bar(target_cnt.keys(), target_cnt.values())\n",
    "plt.title(\"Dataset labels distribuition\")"
   ]
  },
  {
   "cell_type": "code",
   "execution_count": 18,
   "metadata": {
    "id": "gOQnisff1L_T",
    "pycharm": {
     "name": "#%%\n"
    }
   },
   "outputs": [],
   "source": [
    "stop_words = stopwords.words(\"english\")\n",
    "stemmer = SnowballStemmer(\"english\")"
   ]
  },
  {
   "cell_type": "code",
   "execution_count": 40,
   "metadata": {
    "id": "iCcoP9xB66KN",
    "pycharm": {
     "name": "#%%\n"
    }
   },
   "outputs": [],
   "source": [
    "def preprocess(text, stem=False):\n",
    "    # Remove link,user and special characters\n",
    "    text = re.sub(TEXT_CLEANING_RE, ' ', str(text).lower()).strip()\n",
    "    return text"
   ]
  },
  {
   "cell_type": "code",
   "execution_count": 41,
   "metadata": {
    "colab": {
     "base_uri": "https://localhost:8080/"
    },
    "id": "h0IZ_oIc66Hg",
    "outputId": "3fe6c1a3-f156-440f-e681-6dd7aa00412a",
    "pycharm": {
     "name": "#%%\n"
    }
   },
   "outputs": [
    {
     "output_type": "stream",
     "name": "stdout",
     "text": [
      "CPU times: user 7.02 s, sys: 172 ms, total: 7.19 s\n",
      "Wall time: 7.22 s\n"
     ]
    }
   ],
   "source": [
    "%%time\n",
    "df.text = df.text.apply(lambda x: preprocess(x))"
   ]
  },
  {
   "cell_type": "code",
   "execution_count": 42,
   "metadata": {
    "colab": {
     "base_uri": "https://localhost:8080/"
    },
    "id": "OJUp7Vlp66Dc",
    "outputId": "2f9057c8-76ab-4661-c2e7-029f020e294d",
    "pycharm": {
     "name": "#%%\n"
    }
   },
   "outputs": [
    {
     "output_type": "stream",
     "name": "stdout",
     "text": [
      "TRAIN size: 1280000\n",
      "TEST size: 320000\n"
     ]
    }
   ],
   "source": [
    "df_train, df_test = train_test_split(df, test_size=1-TRAIN_SIZE, random_state=42)\n",
    "print(\"TRAIN size:\", len(df_train))\n",
    "print(\"TEST size:\", len(df_test))"
   ]
  },
  {
   "cell_type": "code",
   "execution_count": 43,
   "metadata": {
    "id": "Q9Lwk2wu65-M",
    "colab": {
     "base_uri": "https://localhost:8080/"
    },
    "outputId": "d04f0567-7548-40eb-b190-ff83672c6472",
    "pycharm": {
     "name": "#%%\n"
    }
   },
   "outputs": [
    {
     "output_type": "stream",
     "name": "stdout",
     "text": [
      "CPU times: user 2.68 s, sys: 441 ms, total: 3.12 s\n",
      "Wall time: 3.11 s\n"
     ]
    }
   ],
   "source": [
    "%%time\n",
    "documents = [_text.split() for _text in df_train.text] "
   ]
  },
  {
   "cell_type": "code",
   "execution_count": 44,
   "metadata": {
    "id": "aJvKE88q653e",
    "pycharm": {
     "name": "#%%\n"
    }
   },
   "outputs": [],
   "source": [
    "w2v_model = gensim.models.word2vec.Word2Vec(size=120, \n",
    "                                            window=W2V_WINDOW, \n",
    "                                            min_count=W2V_MIN_COUNT, \n",
    "                                            workers=8)"
   ]
  },
  {
   "cell_type": "code",
   "execution_count": 45,
   "metadata": {
    "colab": {
     "base_uri": "https://localhost:8080/"
    },
    "id": "wXUK8WqD8G8v",
    "outputId": "85fe8428-fbdb-4ecc-e4ae-0541e1a4145b",
    "pycharm": {
     "name": "#%%\n"
    }
   },
   "outputs": [
    {
     "output_type": "stream",
     "name": "stderr",
     "text": [
      "2022-06-16 13:52:49,262 : INFO : collecting all words and their counts\n",
      "2022-06-16 13:52:49,266 : INFO : PROGRESS: at sentence #0, processed 0 words, keeping 0 word types\n",
      "2022-06-16 13:52:49,289 : INFO : PROGRESS: at sentence #10000, processed 72565 words, keeping 14005 word types\n",
      "2022-06-16 13:52:49,312 : INFO : PROGRESS: at sentence #20000, processed 144393 words, keeping 21587 word types\n",
      "2022-06-16 13:52:49,335 : INFO : PROGRESS: at sentence #30000, processed 215826 words, keeping 27541 word types\n",
      "2022-06-16 13:52:49,359 : INFO : PROGRESS: at sentence #40000, processed 288271 words, keeping 32764 word types\n",
      "2022-06-16 13:52:49,383 : INFO : PROGRESS: at sentence #50000, processed 359772 words, keeping 37587 word types\n",
      "2022-06-16 13:52:49,407 : INFO : PROGRESS: at sentence #60000, processed 431431 words, keeping 42198 word types\n",
      "2022-06-16 13:52:49,431 : INFO : PROGRESS: at sentence #70000, processed 503103 words, keeping 46458 word types\n",
      "2022-06-16 13:52:49,455 : INFO : PROGRESS: at sentence #80000, processed 575709 words, keeping 50476 word types\n",
      "2022-06-16 13:52:49,486 : INFO : PROGRESS: at sentence #90000, processed 647100 words, keeping 54140 word types\n",
      "2022-06-16 13:52:49,512 : INFO : PROGRESS: at sentence #100000, processed 718681 words, keeping 57777 word types\n",
      "2022-06-16 13:52:49,538 : INFO : PROGRESS: at sentence #110000, processed 790696 words, keeping 61207 word types\n",
      "2022-06-16 13:52:49,565 : INFO : PROGRESS: at sentence #120000, processed 863134 words, keeping 64583 word types\n",
      "2022-06-16 13:52:49,591 : INFO : PROGRESS: at sentence #130000, processed 935111 words, keeping 67865 word types\n",
      "2022-06-16 13:52:49,616 : INFO : PROGRESS: at sentence #140000, processed 1006668 words, keeping 70966 word types\n",
      "2022-06-16 13:52:49,643 : INFO : PROGRESS: at sentence #150000, processed 1078512 words, keeping 74119 word types\n",
      "2022-06-16 13:52:49,672 : INFO : PROGRESS: at sentence #160000, processed 1149914 words, keeping 77187 word types\n",
      "2022-06-16 13:52:49,703 : INFO : PROGRESS: at sentence #170000, processed 1222145 words, keeping 80267 word types\n",
      "2022-06-16 13:52:49,732 : INFO : PROGRESS: at sentence #180000, processed 1294708 words, keeping 83393 word types\n",
      "2022-06-16 13:52:49,758 : INFO : PROGRESS: at sentence #190000, processed 1367608 words, keeping 86329 word types\n",
      "2022-06-16 13:52:49,786 : INFO : PROGRESS: at sentence #200000, processed 1439469 words, keeping 89103 word types\n",
      "2022-06-16 13:52:49,812 : INFO : PROGRESS: at sentence #210000, processed 1512099 words, keeping 91840 word types\n",
      "2022-06-16 13:52:49,840 : INFO : PROGRESS: at sentence #220000, processed 1584149 words, keeping 94636 word types\n",
      "2022-06-16 13:52:49,870 : INFO : PROGRESS: at sentence #230000, processed 1656354 words, keeping 97353 word types\n",
      "2022-06-16 13:52:49,901 : INFO : PROGRESS: at sentence #240000, processed 1728573 words, keeping 99975 word types\n",
      "2022-06-16 13:52:49,938 : INFO : PROGRESS: at sentence #250000, processed 1801102 words, keeping 102594 word types\n",
      "2022-06-16 13:52:49,970 : INFO : PROGRESS: at sentence #260000, processed 1873103 words, keeping 105162 word types\n",
      "2022-06-16 13:52:49,996 : INFO : PROGRESS: at sentence #270000, processed 1945245 words, keeping 107626 word types\n",
      "2022-06-16 13:52:50,023 : INFO : PROGRESS: at sentence #280000, processed 2017163 words, keeping 110141 word types\n",
      "2022-06-16 13:52:50,052 : INFO : PROGRESS: at sentence #290000, processed 2089574 words, keeping 112539 word types\n",
      "2022-06-16 13:52:50,081 : INFO : PROGRESS: at sentence #300000, processed 2160996 words, keeping 114893 word types\n",
      "2022-06-16 13:52:50,112 : INFO : PROGRESS: at sentence #310000, processed 2232913 words, keeping 117298 word types\n",
      "2022-06-16 13:52:50,139 : INFO : PROGRESS: at sentence #320000, processed 2305039 words, keeping 119693 word types\n",
      "2022-06-16 13:52:50,167 : INFO : PROGRESS: at sentence #330000, processed 2377119 words, keeping 122131 word types\n",
      "2022-06-16 13:52:50,196 : INFO : PROGRESS: at sentence #340000, processed 2449370 words, keeping 124416 word types\n",
      "2022-06-16 13:52:50,223 : INFO : PROGRESS: at sentence #350000, processed 2521564 words, keeping 126669 word types\n",
      "2022-06-16 13:52:50,250 : INFO : PROGRESS: at sentence #360000, processed 2593681 words, keeping 128912 word types\n",
      "2022-06-16 13:52:50,277 : INFO : PROGRESS: at sentence #370000, processed 2665692 words, keeping 131135 word types\n",
      "2022-06-16 13:52:50,303 : INFO : PROGRESS: at sentence #380000, processed 2737859 words, keeping 133403 word types\n",
      "2022-06-16 13:52:50,330 : INFO : PROGRESS: at sentence #390000, processed 2809848 words, keeping 135551 word types\n",
      "2022-06-16 13:52:50,356 : INFO : PROGRESS: at sentence #400000, processed 2882438 words, keeping 137742 word types\n",
      "2022-06-16 13:52:50,382 : INFO : PROGRESS: at sentence #410000, processed 2954075 words, keeping 139909 word types\n",
      "2022-06-16 13:52:50,410 : INFO : PROGRESS: at sentence #420000, processed 3026247 words, keeping 142144 word types\n",
      "2022-06-16 13:52:50,437 : INFO : PROGRESS: at sentence #430000, processed 3098659 words, keeping 144364 word types\n",
      "2022-06-16 13:52:50,469 : INFO : PROGRESS: at sentence #440000, processed 3170663 words, keeping 146439 word types\n",
      "2022-06-16 13:52:50,503 : INFO : PROGRESS: at sentence #450000, processed 3243344 words, keeping 148526 word types\n",
      "2022-06-16 13:52:50,534 : INFO : PROGRESS: at sentence #460000, processed 3315466 words, keeping 150610 word types\n",
      "2022-06-16 13:52:50,560 : INFO : PROGRESS: at sentence #470000, processed 3388295 words, keeping 152737 word types\n",
      "2022-06-16 13:52:50,588 : INFO : PROGRESS: at sentence #480000, processed 3460120 words, keeping 154757 word types\n",
      "2022-06-16 13:52:50,617 : INFO : PROGRESS: at sentence #490000, processed 3531883 words, keeping 156825 word types\n",
      "2022-06-16 13:52:50,644 : INFO : PROGRESS: at sentence #500000, processed 3604217 words, keeping 158859 word types\n",
      "2022-06-16 13:52:50,672 : INFO : PROGRESS: at sentence #510000, processed 3676427 words, keeping 160852 word types\n",
      "2022-06-16 13:52:50,700 : INFO : PROGRESS: at sentence #520000, processed 3749045 words, keeping 162863 word types\n",
      "2022-06-16 13:52:50,728 : INFO : PROGRESS: at sentence #530000, processed 3821622 words, keeping 164929 word types\n",
      "2022-06-16 13:52:50,754 : INFO : PROGRESS: at sentence #540000, processed 3893627 words, keeping 166840 word types\n",
      "2022-06-16 13:52:50,780 : INFO : PROGRESS: at sentence #550000, processed 3965477 words, keeping 168799 word types\n",
      "2022-06-16 13:52:50,806 : INFO : PROGRESS: at sentence #560000, processed 4038050 words, keeping 170802 word types\n",
      "2022-06-16 13:52:50,832 : INFO : PROGRESS: at sentence #570000, processed 4110296 words, keeping 172760 word types\n",
      "2022-06-16 13:52:50,858 : INFO : PROGRESS: at sentence #580000, processed 4182385 words, keeping 174635 word types\n",
      "2022-06-16 13:52:50,889 : INFO : PROGRESS: at sentence #590000, processed 4254632 words, keeping 176470 word types\n",
      "2022-06-16 13:52:50,916 : INFO : PROGRESS: at sentence #600000, processed 4326859 words, keeping 178350 word types\n",
      "2022-06-16 13:52:50,947 : INFO : PROGRESS: at sentence #610000, processed 4399183 words, keeping 180290 word types\n",
      "2022-06-16 13:52:50,980 : INFO : PROGRESS: at sentence #620000, processed 4471343 words, keeping 182129 word types\n",
      "2022-06-16 13:52:51,007 : INFO : PROGRESS: at sentence #630000, processed 4543286 words, keeping 184005 word types\n",
      "2022-06-16 13:52:51,036 : INFO : PROGRESS: at sentence #640000, processed 4615780 words, keeping 185835 word types\n",
      "2022-06-16 13:52:51,062 : INFO : PROGRESS: at sentence #650000, processed 4688481 words, keeping 187705 word types\n",
      "2022-06-16 13:52:51,088 : INFO : PROGRESS: at sentence #660000, processed 4760481 words, keeping 189439 word types\n",
      "2022-06-16 13:52:51,116 : INFO : PROGRESS: at sentence #670000, processed 4833024 words, keeping 191232 word types\n",
      "2022-06-16 13:52:51,143 : INFO : PROGRESS: at sentence #680000, processed 4904516 words, keeping 193177 word types\n",
      "2022-06-16 13:52:51,173 : INFO : PROGRESS: at sentence #690000, processed 4976968 words, keeping 194960 word types\n",
      "2022-06-16 13:52:51,201 : INFO : PROGRESS: at sentence #700000, processed 5049412 words, keeping 196725 word types\n",
      "2022-06-16 13:52:51,228 : INFO : PROGRESS: at sentence #710000, processed 5121976 words, keeping 198516 word types\n",
      "2022-06-16 13:52:51,256 : INFO : PROGRESS: at sentence #720000, processed 5193881 words, keeping 200325 word types\n",
      "2022-06-16 13:52:51,286 : INFO : PROGRESS: at sentence #730000, processed 5265467 words, keeping 202133 word types\n",
      "2022-06-16 13:52:51,313 : INFO : PROGRESS: at sentence #740000, processed 5337518 words, keeping 203818 word types\n",
      "2022-06-16 13:52:51,339 : INFO : PROGRESS: at sentence #750000, processed 5409321 words, keeping 205535 word types\n",
      "2022-06-16 13:52:51,364 : INFO : PROGRESS: at sentence #760000, processed 5481512 words, keeping 207282 word types\n",
      "2022-06-16 13:52:51,389 : INFO : PROGRESS: at sentence #770000, processed 5554093 words, keeping 209076 word types\n",
      "2022-06-16 13:52:51,419 : INFO : PROGRESS: at sentence #780000, processed 5625382 words, keeping 210805 word types\n",
      "2022-06-16 13:52:51,445 : INFO : PROGRESS: at sentence #790000, processed 5698066 words, keeping 212618 word types\n",
      "2022-06-16 13:52:51,471 : INFO : PROGRESS: at sentence #800000, processed 5770880 words, keeping 214374 word types\n",
      "2022-06-16 13:52:51,500 : INFO : PROGRESS: at sentence #810000, processed 5843418 words, keeping 216009 word types\n",
      "2022-06-16 13:52:51,531 : INFO : PROGRESS: at sentence #820000, processed 5915628 words, keeping 217804 word types\n",
      "2022-06-16 13:52:51,557 : INFO : PROGRESS: at sentence #830000, processed 5987499 words, keeping 219585 word types\n",
      "2022-06-16 13:52:51,584 : INFO : PROGRESS: at sentence #840000, processed 6058973 words, keeping 221344 word types\n",
      "2022-06-16 13:52:51,610 : INFO : PROGRESS: at sentence #850000, processed 6131125 words, keeping 223002 word types\n",
      "2022-06-16 13:52:51,639 : INFO : PROGRESS: at sentence #860000, processed 6202951 words, keeping 224643 word types\n",
      "2022-06-16 13:52:51,667 : INFO : PROGRESS: at sentence #870000, processed 6275461 words, keeping 226362 word types\n",
      "2022-06-16 13:52:51,693 : INFO : PROGRESS: at sentence #880000, processed 6347661 words, keeping 227986 word types\n",
      "2022-06-16 13:52:51,721 : INFO : PROGRESS: at sentence #890000, processed 6419806 words, keeping 229634 word types\n",
      "2022-06-16 13:52:51,749 : INFO : PROGRESS: at sentence #900000, processed 6491644 words, keeping 231389 word types\n",
      "2022-06-16 13:52:51,776 : INFO : PROGRESS: at sentence #910000, processed 6564022 words, keeping 233050 word types\n",
      "2022-06-16 13:52:51,802 : INFO : PROGRESS: at sentence #920000, processed 6636228 words, keeping 234686 word types\n",
      "2022-06-16 13:52:51,830 : INFO : PROGRESS: at sentence #930000, processed 6708573 words, keeping 236393 word types\n",
      "2022-06-16 13:52:51,856 : INFO : PROGRESS: at sentence #940000, processed 6779956 words, keeping 238052 word types\n",
      "2022-06-16 13:52:51,885 : INFO : PROGRESS: at sentence #950000, processed 6852599 words, keeping 239716 word types\n",
      "2022-06-16 13:52:51,911 : INFO : PROGRESS: at sentence #960000, processed 6924717 words, keeping 241354 word types\n",
      "2022-06-16 13:52:51,938 : INFO : PROGRESS: at sentence #970000, processed 6996992 words, keeping 242980 word types\n",
      "2022-06-16 13:52:51,969 : INFO : PROGRESS: at sentence #980000, processed 7068402 words, keeping 244646 word types\n",
      "2022-06-16 13:52:52,003 : INFO : PROGRESS: at sentence #990000, processed 7140346 words, keeping 246186 word types\n",
      "2022-06-16 13:52:52,030 : INFO : PROGRESS: at sentence #1000000, processed 7211757 words, keeping 247726 word types\n",
      "2022-06-16 13:52:52,059 : INFO : PROGRESS: at sentence #1010000, processed 7283267 words, keeping 249288 word types\n",
      "2022-06-16 13:52:52,092 : INFO : PROGRESS: at sentence #1020000, processed 7355299 words, keeping 250860 word types\n",
      "2022-06-16 13:52:52,119 : INFO : PROGRESS: at sentence #1030000, processed 7426918 words, keeping 252366 word types\n",
      "2022-06-16 13:52:52,146 : INFO : PROGRESS: at sentence #1040000, processed 7498815 words, keeping 253930 word types\n",
      "2022-06-16 13:52:52,172 : INFO : PROGRESS: at sentence #1050000, processed 7570499 words, keeping 255471 word types\n",
      "2022-06-16 13:52:52,205 : INFO : PROGRESS: at sentence #1060000, processed 7643251 words, keeping 257035 word types\n",
      "2022-06-16 13:52:52,232 : INFO : PROGRESS: at sentence #1070000, processed 7714721 words, keeping 258509 word types\n",
      "2022-06-16 13:52:52,258 : INFO : PROGRESS: at sentence #1080000, processed 7787371 words, keeping 260071 word types\n",
      "2022-06-16 13:52:52,282 : INFO : PROGRESS: at sentence #1090000, processed 7859336 words, keeping 261683 word types\n",
      "2022-06-16 13:52:52,314 : INFO : PROGRESS: at sentence #1100000, processed 7932029 words, keeping 263278 word types\n",
      "2022-06-16 13:52:52,345 : INFO : PROGRESS: at sentence #1110000, processed 8004146 words, keeping 264800 word types\n",
      "2022-06-16 13:52:52,372 : INFO : PROGRESS: at sentence #1120000, processed 8075880 words, keeping 266309 word types\n",
      "2022-06-16 13:52:52,400 : INFO : PROGRESS: at sentence #1130000, processed 8148163 words, keeping 267826 word types\n",
      "2022-06-16 13:52:52,427 : INFO : PROGRESS: at sentence #1140000, processed 8220487 words, keeping 269391 word types\n",
      "2022-06-16 13:52:52,455 : INFO : PROGRESS: at sentence #1150000, processed 8292498 words, keeping 270894 word types\n",
      "2022-06-16 13:52:52,481 : INFO : PROGRESS: at sentence #1160000, processed 8363838 words, keeping 272400 word types\n",
      "2022-06-16 13:52:52,508 : INFO : PROGRESS: at sentence #1170000, processed 8435510 words, keeping 273970 word types\n",
      "2022-06-16 13:52:52,535 : INFO : PROGRESS: at sentence #1180000, processed 8507795 words, keeping 275521 word types\n",
      "2022-06-16 13:52:52,563 : INFO : PROGRESS: at sentence #1190000, processed 8579080 words, keeping 277007 word types\n",
      "2022-06-16 13:52:52,591 : INFO : PROGRESS: at sentence #1200000, processed 8650606 words, keeping 278457 word types\n",
      "2022-06-16 13:52:52,619 : INFO : PROGRESS: at sentence #1210000, processed 8721893 words, keeping 279959 word types\n",
      "2022-06-16 13:52:52,648 : INFO : PROGRESS: at sentence #1220000, processed 8793795 words, keeping 281427 word types\n",
      "2022-06-16 13:52:52,677 : INFO : PROGRESS: at sentence #1230000, processed 8865726 words, keeping 282981 word types\n",
      "2022-06-16 13:52:52,706 : INFO : PROGRESS: at sentence #1240000, processed 8938173 words, keeping 284542 word types\n",
      "2022-06-16 13:52:52,743 : INFO : PROGRESS: at sentence #1250000, processed 9010842 words, keeping 286064 word types\n",
      "2022-06-16 13:52:52,771 : INFO : PROGRESS: at sentence #1260000, processed 9083261 words, keeping 287521 word types\n",
      "2022-06-16 13:52:52,796 : INFO : PROGRESS: at sentence #1270000, processed 9155616 words, keeping 288987 word types\n",
      "2022-06-16 13:52:52,822 : INFO : collected 290418 word types from a corpus of 9227204 raw words and 1280000 sentences\n",
      "2022-06-16 13:52:52,824 : INFO : Loading a fresh vocabulary\n",
      "2022-06-16 13:52:52,991 : INFO : effective_min_count=10 retains 30369 unique words (10% of original 290418, drops 260049)\n",
      "2022-06-16 13:52:52,995 : INFO : effective_min_count=10 leaves 8780739 word corpus (95% of original 9227204, drops 446465)\n",
      "2022-06-16 13:52:53,094 : INFO : deleting the raw counts dictionary of 290418 items\n",
      "2022-06-16 13:52:53,104 : INFO : sample=0.001 downsamples 45 most-common words\n",
      "2022-06-16 13:52:53,106 : INFO : downsampling leaves estimated 8222658 word corpus (93.6% of prior 8780739)\n",
      "2022-06-16 13:52:53,214 : INFO : estimated required memory for 30369 words and 120 dimensions: 44338740 bytes\n",
      "2022-06-16 13:52:53,216 : INFO : resetting layer weights\n"
     ]
    }
   ],
   "source": [
    "w2v_model.build_vocab(documents)"
   ]
  },
  {
   "cell_type": "code",
   "execution_count": 46,
   "metadata": {
    "colab": {
     "base_uri": "https://localhost:8080/"
    },
    "id": "z2nqT0e98G6O",
    "outputId": "2a8a5db2-29cf-41aa-80d8-711eb96e537d",
    "pycharm": {
     "name": "#%%\n"
    }
   },
   "outputs": [
    {
     "output_type": "stream",
     "name": "stdout",
     "text": [
      "Vocab size 30369\n"
     ]
    }
   ],
   "source": [
    "words = w2v_model.wv.vocab.keys()\n",
    "vocab_size = len(words)\n",
    "print(\"Vocab size\", vocab_size)"
   ]
  },
  {
   "cell_type": "code",
   "execution_count": 47,
   "metadata": {
    "colab": {
     "base_uri": "https://localhost:8080/"
    },
    "id": "ZAXAp5ML8G2Q",
    "outputId": "afdefc86-a9ad-4141-88bc-500cc3f708f8",
    "pycharm": {
     "name": "#%%\n"
    }
   },
   "outputs": [
    {
     "output_type": "stream",
     "name": "stderr",
     "text": [
      "2022-06-16 13:52:58,533 : INFO : training model with 8 workers on 30369 vocabulary and 120 features, using sg=0 hs=0 sample=0.001 negative=5 window=7\n",
      "2022-06-16 13:52:59,625 : INFO : EPOCH 1 - PROGRESS: at 4.13% examples, 317016 words/s, in_qsize 12, out_qsize 3\n",
      "2022-06-16 13:53:00,683 : INFO : EPOCH 1 - PROGRESS: at 8.36% examples, 322780 words/s, in_qsize 13, out_qsize 4\n",
      "2022-06-16 13:53:01,725 : INFO : EPOCH 1 - PROGRESS: at 12.38% examples, 320673 words/s, in_qsize 14, out_qsize 4\n",
      "2022-06-16 13:53:02,806 : INFO : EPOCH 1 - PROGRESS: at 16.92% examples, 327957 words/s, in_qsize 15, out_qsize 0\n",
      "2022-06-16 13:53:03,877 : INFO : EPOCH 1 - PROGRESS: at 20.92% examples, 323121 words/s, in_qsize 15, out_qsize 0\n",
      "2022-06-16 13:53:04,890 : INFO : EPOCH 1 - PROGRESS: at 24.94% examples, 323539 words/s, in_qsize 15, out_qsize 1\n",
      "2022-06-16 13:53:05,895 : INFO : EPOCH 1 - PROGRESS: at 28.94% examples, 324157 words/s, in_qsize 14, out_qsize 1\n",
      "2022-06-16 13:53:06,957 : INFO : EPOCH 1 - PROGRESS: at 33.06% examples, 323463 words/s, in_qsize 13, out_qsize 3\n",
      "2022-06-16 13:53:07,972 : INFO : EPOCH 1 - PROGRESS: at 37.59% examples, 328323 words/s, in_qsize 15, out_qsize 0\n",
      "2022-06-16 13:53:08,999 : INFO : EPOCH 1 - PROGRESS: at 41.59% examples, 327589 words/s, in_qsize 14, out_qsize 1\n",
      "2022-06-16 13:53:10,020 : INFO : EPOCH 1 - PROGRESS: at 45.81% examples, 328705 words/s, in_qsize 15, out_qsize 0\n",
      "2022-06-16 13:53:11,049 : INFO : EPOCH 1 - PROGRESS: at 49.48% examples, 325869 words/s, in_qsize 14, out_qsize 1\n",
      "2022-06-16 13:53:12,073 : INFO : EPOCH 1 - PROGRESS: at 52.40% examples, 319002 words/s, in_qsize 16, out_qsize 5\n",
      "2022-06-16 13:53:13,142 : INFO : EPOCH 1 - PROGRESS: at 55.97% examples, 315778 words/s, in_qsize 15, out_qsize 0\n",
      "2022-06-16 13:53:14,150 : INFO : EPOCH 1 - PROGRESS: at 59.76% examples, 315378 words/s, in_qsize 15, out_qsize 0\n",
      "2022-06-16 13:53:15,198 : INFO : EPOCH 1 - PROGRESS: at 63.11% examples, 312504 words/s, in_qsize 15, out_qsize 1\n",
      "2022-06-16 13:53:16,180 : INFO : EPOCH 1 - PROGRESS: at 67.34% examples, 314415 words/s, in_qsize 13, out_qsize 2\n",
      "2022-06-16 13:53:17,228 : INFO : EPOCH 1 - PROGRESS: at 71.56% examples, 315368 words/s, in_qsize 13, out_qsize 2\n",
      "2022-06-16 13:53:18,330 : INFO : EPOCH 1 - PROGRESS: at 76.44% examples, 318146 words/s, in_qsize 15, out_qsize 2\n",
      "2022-06-16 13:53:19,333 : INFO : EPOCH 1 - PROGRESS: at 81.01% examples, 320708 words/s, in_qsize 15, out_qsize 0\n",
      "2022-06-16 13:53:20,348 : INFO : EPOCH 1 - PROGRESS: at 85.13% examples, 321295 words/s, in_qsize 15, out_qsize 0\n",
      "2022-06-16 13:53:21,366 : INFO : EPOCH 1 - PROGRESS: at 89.34% examples, 322182 words/s, in_qsize 15, out_qsize 1\n",
      "2022-06-16 13:53:22,472 : INFO : EPOCH 1 - PROGRESS: at 93.70% examples, 322156 words/s, in_qsize 15, out_qsize 0\n",
      "2022-06-16 13:53:23,501 : INFO : EPOCH 1 - PROGRESS: at 98.04% examples, 323151 words/s, in_qsize 15, out_qsize 0\n",
      "2022-06-16 13:53:23,724 : INFO : worker thread finished; awaiting finish of 7 more threads\n",
      "2022-06-16 13:53:23,729 : INFO : worker thread finished; awaiting finish of 6 more threads\n",
      "2022-06-16 13:53:23,757 : INFO : worker thread finished; awaiting finish of 5 more threads\n",
      "2022-06-16 13:53:23,773 : INFO : worker thread finished; awaiting finish of 4 more threads\n",
      "2022-06-16 13:53:23,799 : INFO : worker thread finished; awaiting finish of 3 more threads\n",
      "2022-06-16 13:53:23,802 : INFO : worker thread finished; awaiting finish of 2 more threads\n",
      "2022-06-16 13:53:23,833 : INFO : worker thread finished; awaiting finish of 1 more threads\n",
      "2022-06-16 13:53:23,838 : INFO : worker thread finished; awaiting finish of 0 more threads\n",
      "2022-06-16 13:53:23,841 : INFO : EPOCH - 1 : training on 9227204 raw words (8222056 effective words) took 25.3s, 325193 effective words/s\n",
      "2022-06-16 13:53:24,890 : INFO : EPOCH 2 - PROGRESS: at 3.58% examples, 284289 words/s, in_qsize 13, out_qsize 2\n",
      "2022-06-16 13:53:25,938 : INFO : EPOCH 2 - PROGRESS: at 8.26% examples, 325197 words/s, in_qsize 16, out_qsize 0\n",
      "2022-06-16 13:53:26,974 : INFO : EPOCH 2 - PROGRESS: at 13.14% examples, 345782 words/s, in_qsize 15, out_qsize 1\n",
      "2022-06-16 13:53:27,979 : INFO : EPOCH 2 - PROGRESS: at 17.35% examples, 345683 words/s, in_qsize 15, out_qsize 0\n",
      "2022-06-16 13:53:29,021 : INFO : EPOCH 2 - PROGRESS: at 21.79% examples, 346658 words/s, in_qsize 13, out_qsize 2\n",
      "2022-06-16 13:53:30,031 : INFO : EPOCH 2 - PROGRESS: at 26.23% examples, 349139 words/s, in_qsize 15, out_qsize 0\n",
      "2022-06-16 13:53:31,112 : INFO : EPOCH 2 - PROGRESS: at 30.45% examples, 345020 words/s, in_qsize 14, out_qsize 1\n",
      "2022-06-16 13:53:32,119 : INFO : EPOCH 2 - PROGRESS: at 35.42% examples, 352555 words/s, in_qsize 15, out_qsize 0\n",
      "2022-06-16 13:53:33,181 : INFO : EPOCH 2 - PROGRESS: at 39.65% examples, 349650 words/s, in_qsize 14, out_qsize 2\n",
      "2022-06-16 13:53:34,192 : INFO : EPOCH 2 - PROGRESS: at 44.51% examples, 354212 words/s, in_qsize 15, out_qsize 0\n",
      "2022-06-16 13:53:35,263 : INFO : EPOCH 2 - PROGRESS: at 49.38% examples, 357276 words/s, in_qsize 15, out_qsize 0\n",
      "2022-06-16 13:53:36,236 : INFO : EPOCH 2 - PROGRESS: at 53.81% examples, 357607 words/s, in_qsize 15, out_qsize 0\n",
      "2022-06-16 13:53:37,270 : INFO : EPOCH 2 - PROGRESS: at 58.36% examples, 357958 words/s, in_qsize 10, out_qsize 5\n",
      "2022-06-16 13:53:38,335 : INFO : EPOCH 2 - PROGRESS: at 63.11% examples, 358723 words/s, in_qsize 13, out_qsize 2\n",
      "2022-06-16 13:53:39,449 : INFO : EPOCH 2 - PROGRESS: at 68.85% examples, 363384 words/s, in_qsize 13, out_qsize 2\n",
      "2022-06-16 13:53:40,522 : INFO : EPOCH 2 - PROGRESS: at 74.37% examples, 367238 words/s, in_qsize 15, out_qsize 0\n",
      "2022-06-16 13:53:41,524 : INFO : EPOCH 2 - PROGRESS: at 80.03% examples, 372588 words/s, in_qsize 16, out_qsize 0\n",
      "2022-06-16 13:53:42,582 : INFO : EPOCH 2 - PROGRESS: at 85.56% examples, 375805 words/s, in_qsize 16, out_qsize 0\n",
      "2022-06-16 13:53:43,630 : INFO : EPOCH 2 - PROGRESS: at 91.09% examples, 378841 words/s, in_qsize 15, out_qsize 0\n",
      "2022-06-16 13:53:44,686 : INFO : EPOCH 2 - PROGRESS: at 96.85% examples, 382283 words/s, in_qsize 16, out_qsize 0\n",
      "2022-06-16 13:53:45,124 : INFO : worker thread finished; awaiting finish of 7 more threads\n",
      "2022-06-16 13:53:45,132 : INFO : worker thread finished; awaiting finish of 6 more threads\n",
      "2022-06-16 13:53:45,143 : INFO : worker thread finished; awaiting finish of 5 more threads\n",
      "2022-06-16 13:53:45,154 : INFO : worker thread finished; awaiting finish of 4 more threads\n",
      "2022-06-16 13:53:45,162 : INFO : worker thread finished; awaiting finish of 3 more threads\n",
      "2022-06-16 13:53:45,164 : INFO : worker thread finished; awaiting finish of 2 more threads\n",
      "2022-06-16 13:53:45,170 : INFO : worker thread finished; awaiting finish of 1 more threads\n",
      "2022-06-16 13:53:45,183 : INFO : worker thread finished; awaiting finish of 0 more threads\n",
      "2022-06-16 13:53:45,185 : INFO : EPOCH - 2 : training on 9227204 raw words (8222573 effective words) took 21.3s, 385510 effective words/s\n",
      "2022-06-16 13:53:46,279 : INFO : EPOCH 3 - PROGRESS: at 5.21% examples, 395588 words/s, in_qsize 15, out_qsize 0\n",
      "2022-06-16 13:53:47,338 : INFO : EPOCH 3 - PROGRESS: at 10.97% examples, 420413 words/s, in_qsize 15, out_qsize 0\n",
      "2022-06-16 13:53:48,359 : INFO : EPOCH 3 - PROGRESS: at 16.48% examples, 428203 words/s, in_qsize 14, out_qsize 1\n",
      "2022-06-16 13:53:49,386 : INFO : EPOCH 3 - PROGRESS: at 22.22% examples, 435998 words/s, in_qsize 15, out_qsize 0\n",
      "2022-06-16 13:53:50,405 : INFO : EPOCH 3 - PROGRESS: at 27.10% examples, 427622 words/s, in_qsize 16, out_qsize 1\n",
      "2022-06-16 13:53:51,434 : INFO : EPOCH 3 - PROGRESS: at 32.30% examples, 425660 words/s, in_qsize 16, out_qsize 3\n",
      "2022-06-16 13:53:52,459 : INFO : EPOCH 3 - PROGRESS: at 37.70% examples, 426929 words/s, in_qsize 15, out_qsize 2\n",
      "2022-06-16 13:53:53,476 : INFO : EPOCH 3 - PROGRESS: at 43.21% examples, 429359 words/s, in_qsize 15, out_qsize 2\n",
      "2022-06-16 13:53:54,563 : INFO : EPOCH 3 - PROGRESS: at 48.95% examples, 429936 words/s, in_qsize 15, out_qsize 1\n",
      "2022-06-16 13:53:55,565 : INFO : EPOCH 3 - PROGRESS: at 54.78% examples, 434805 words/s, in_qsize 15, out_qsize 0\n",
      "2022-06-16 13:53:56,578 : INFO : EPOCH 3 - PROGRESS: at 59.66% examples, 431328 words/s, in_qsize 11, out_qsize 4\n",
      "2022-06-16 13:53:57,590 : INFO : EPOCH 3 - PROGRESS: at 65.61% examples, 435657 words/s, in_qsize 15, out_qsize 0\n",
      "2022-06-16 13:53:58,595 : INFO : EPOCH 3 - PROGRESS: at 70.91% examples, 435559 words/s, in_qsize 12, out_qsize 0\n",
      "2022-06-16 13:53:59,634 : INFO : EPOCH 3 - PROGRESS: at 75.78% examples, 431939 words/s, in_qsize 11, out_qsize 4\n",
      "2022-06-16 13:54:00,649 : INFO : EPOCH 3 - PROGRESS: at 81.77% examples, 435268 words/s, in_qsize 15, out_qsize 0\n",
      "2022-06-16 13:54:01,658 : INFO : EPOCH 3 - PROGRESS: at 86.64% examples, 432929 words/s, in_qsize 16, out_qsize 2\n",
      "2022-06-16 13:54:02,684 : INFO : EPOCH 3 - PROGRESS: at 92.17% examples, 433836 words/s, in_qsize 13, out_qsize 2\n",
      "2022-06-16 13:54:03,690 : INFO : EPOCH 3 - PROGRESS: at 97.61% examples, 434000 words/s, in_qsize 15, out_qsize 0\n",
      "2022-06-16 13:54:03,922 : INFO : worker thread finished; awaiting finish of 7 more threads\n",
      "2022-06-16 13:54:03,945 : INFO : worker thread finished; awaiting finish of 6 more threads\n",
      "2022-06-16 13:54:03,959 : INFO : worker thread finished; awaiting finish of 5 more threads\n",
      "2022-06-16 13:54:04,001 : INFO : worker thread finished; awaiting finish of 4 more threads\n",
      "2022-06-16 13:54:04,004 : INFO : worker thread finished; awaiting finish of 3 more threads\n",
      "2022-06-16 13:54:04,010 : INFO : worker thread finished; awaiting finish of 2 more threads\n",
      "2022-06-16 13:54:04,016 : INFO : worker thread finished; awaiting finish of 1 more threads\n",
      "2022-06-16 13:54:04,020 : INFO : worker thread finished; awaiting finish of 0 more threads\n",
      "2022-06-16 13:54:04,022 : INFO : EPOCH - 3 : training on 9227204 raw words (8221846 effective words) took 18.8s, 436801 effective words/s\n",
      "2022-06-16 13:54:05,131 : INFO : EPOCH 4 - PROGRESS: at 5.21% examples, 389944 words/s, in_qsize 16, out_qsize 2\n",
      "2022-06-16 13:54:06,132 : INFO : EPOCH 4 - PROGRESS: at 10.64% examples, 416488 words/s, in_qsize 14, out_qsize 1\n",
      "2022-06-16 13:54:07,136 : INFO : EPOCH 4 - PROGRESS: at 16.38% examples, 433999 words/s, in_qsize 15, out_qsize 0\n",
      "2022-06-16 13:54:08,139 : INFO : EPOCH 4 - PROGRESS: at 22.01% examples, 440778 words/s, in_qsize 15, out_qsize 0\n",
      "2022-06-16 13:54:09,153 : INFO : EPOCH 4 - PROGRESS: at 26.78% examples, 430026 words/s, in_qsize 15, out_qsize 0\n",
      "2022-06-16 13:54:10,204 : INFO : EPOCH 4 - PROGRESS: at 32.41% examples, 431925 words/s, in_qsize 16, out_qsize 0\n",
      "2022-06-16 13:54:11,216 : INFO : EPOCH 4 - PROGRESS: at 36.40% examples, 417013 words/s, in_qsize 15, out_qsize 0\n",
      "2022-06-16 13:54:12,257 : INFO : EPOCH 4 - PROGRESS: at 39.22% examples, 392301 words/s, in_qsize 15, out_qsize 0\n",
      "2022-06-16 13:54:13,261 : INFO : EPOCH 4 - PROGRESS: at 42.89% examples, 382463 words/s, in_qsize 15, out_qsize 0\n",
      "2022-06-16 13:54:14,315 : INFO : EPOCH 4 - PROGRESS: at 48.30% examples, 386566 words/s, in_qsize 15, out_qsize 0\n",
      "2022-06-16 13:54:15,318 : INFO : EPOCH 4 - PROGRESS: at 53.81% examples, 392493 words/s, in_qsize 16, out_qsize 0\n",
      "2022-06-16 13:54:16,325 : INFO : EPOCH 4 - PROGRESS: at 59.44% examples, 398052 words/s, in_qsize 15, out_qsize 0\n",
      "2022-06-16 13:54:17,331 : INFO : EPOCH 4 - PROGRESS: at 64.84% examples, 401401 words/s, in_qsize 15, out_qsize 0\n",
      "2022-06-16 13:54:18,360 : INFO : EPOCH 4 - PROGRESS: at 70.05% examples, 402423 words/s, in_qsize 12, out_qsize 3\n",
      "2022-06-16 13:54:19,378 : INFO : EPOCH 4 - PROGRESS: at 75.35% examples, 404161 words/s, in_qsize 15, out_qsize 0\n",
      "2022-06-16 13:54:20,434 : INFO : EPOCH 4 - PROGRESS: at 80.79% examples, 405305 words/s, in_qsize 15, out_qsize 0\n",
      "2022-06-16 13:54:21,519 : INFO : EPOCH 4 - PROGRESS: at 86.31% examples, 406102 words/s, in_qsize 13, out_qsize 6\n",
      "2022-06-16 13:54:22,556 : INFO : EPOCH 4 - PROGRESS: at 92.17% examples, 409334 words/s, in_qsize 15, out_qsize 0\n",
      "2022-06-16 13:54:23,562 : INFO : EPOCH 4 - PROGRESS: at 97.50% examples, 410579 words/s, in_qsize 14, out_qsize 1\n",
      "2022-06-16 13:54:23,803 : INFO : worker thread finished; awaiting finish of 7 more threads\n",
      "2022-06-16 13:54:23,814 : INFO : worker thread finished; awaiting finish of 6 more threads\n",
      "2022-06-16 13:54:23,836 : INFO : worker thread finished; awaiting finish of 5 more threads\n",
      "2022-06-16 13:54:23,851 : INFO : worker thread finished; awaiting finish of 4 more threads\n",
      "2022-06-16 13:54:23,879 : INFO : worker thread finished; awaiting finish of 3 more threads\n",
      "2022-06-16 13:54:23,883 : INFO : worker thread finished; awaiting finish of 2 more threads\n",
      "2022-06-16 13:54:23,886 : INFO : worker thread finished; awaiting finish of 1 more threads\n",
      "2022-06-16 13:54:23,891 : INFO : worker thread finished; awaiting finish of 0 more threads\n",
      "2022-06-16 13:54:23,894 : INFO : EPOCH - 4 : training on 9227204 raw words (8223162 effective words) took 19.9s, 414093 effective words/s\n",
      "2022-06-16 13:54:24,950 : INFO : EPOCH 5 - PROGRESS: at 5.10% examples, 400608 words/s, in_qsize 15, out_qsize 0\n",
      "2022-06-16 13:54:25,956 : INFO : EPOCH 5 - PROGRESS: at 10.53% examples, 421498 words/s, in_qsize 14, out_qsize 1\n",
      "2022-06-16 13:54:26,958 : INFO : EPOCH 5 - PROGRESS: at 16.27% examples, 437679 words/s, in_qsize 16, out_qsize 0\n",
      "2022-06-16 13:54:27,968 : INFO : EPOCH 5 - PROGRESS: at 21.14% examples, 427656 words/s, in_qsize 14, out_qsize 4\n",
      "2022-06-16 13:54:28,987 : INFO : EPOCH 5 - PROGRESS: at 26.88% examples, 434854 words/s, in_qsize 13, out_qsize 0\n",
      "2022-06-16 13:54:30,005 : INFO : EPOCH 5 - PROGRESS: at 32.19% examples, 433881 words/s, in_qsize 15, out_qsize 0\n",
      "2022-06-16 13:54:31,041 : INFO : EPOCH 5 - PROGRESS: at 37.37% examples, 430733 words/s, in_qsize 16, out_qsize 1\n",
      "2022-06-16 13:54:32,058 : INFO : EPOCH 5 - PROGRESS: at 43.00% examples, 433823 words/s, in_qsize 15, out_qsize 1\n",
      "2022-06-16 13:54:33,087 : INFO : EPOCH 5 - PROGRESS: at 48.62% examples, 436206 words/s, in_qsize 15, out_qsize 0\n",
      "2022-06-16 13:54:34,131 : INFO : EPOCH 5 - PROGRESS: at 54.02% examples, 434750 words/s, in_qsize 13, out_qsize 2\n",
      "2022-06-16 13:54:35,142 : INFO : EPOCH 5 - PROGRESS: at 59.66% examples, 436912 words/s, in_qsize 15, out_qsize 1\n",
      "2022-06-16 13:54:36,144 : INFO : EPOCH 5 - PROGRESS: at 65.50% examples, 440420 words/s, in_qsize 16, out_qsize 1\n",
      "2022-06-16 13:54:37,244 : INFO : EPOCH 5 - PROGRESS: at 71.02% examples, 438152 words/s, in_qsize 14, out_qsize 1\n",
      "2022-06-16 13:54:38,252 : INFO : EPOCH 5 - PROGRESS: at 76.98% examples, 441506 words/s, in_qsize 15, out_qsize 0\n",
      "2022-06-16 13:54:39,299 : INFO : EPOCH 5 - PROGRESS: at 82.10% examples, 438694 words/s, in_qsize 16, out_qsize 2\n",
      "2022-06-16 13:54:40,327 : INFO : EPOCH 5 - PROGRESS: at 87.51% examples, 438330 words/s, in_qsize 16, out_qsize 1\n",
      "2022-06-16 13:54:41,341 : INFO : EPOCH 5 - PROGRESS: at 93.04% examples, 438887 words/s, in_qsize 15, out_qsize 1\n",
      "2022-06-16 13:54:42,348 : INFO : EPOCH 5 - PROGRESS: at 98.36% examples, 438566 words/s, in_qsize 13, out_qsize 2\n",
      "2022-06-16 13:54:42,492 : INFO : worker thread finished; awaiting finish of 7 more threads\n",
      "2022-06-16 13:54:42,501 : INFO : worker thread finished; awaiting finish of 6 more threads\n",
      "2022-06-16 13:54:42,509 : INFO : worker thread finished; awaiting finish of 5 more threads\n",
      "2022-06-16 13:54:42,514 : INFO : worker thread finished; awaiting finish of 4 more threads\n",
      "2022-06-16 13:54:42,520 : INFO : worker thread finished; awaiting finish of 3 more threads\n",
      "2022-06-16 13:54:42,527 : INFO : worker thread finished; awaiting finish of 2 more threads\n",
      "2022-06-16 13:54:42,543 : INFO : worker thread finished; awaiting finish of 1 more threads\n",
      "2022-06-16 13:54:42,544 : INFO : worker thread finished; awaiting finish of 0 more threads\n",
      "2022-06-16 13:54:42,547 : INFO : EPOCH - 5 : training on 9227204 raw words (8222582 effective words) took 18.6s, 441111 effective words/s\n",
      "2022-06-16 13:54:43,570 : INFO : EPOCH 6 - PROGRESS: at 5.00% examples, 406830 words/s, in_qsize 16, out_qsize 1\n",
      "2022-06-16 13:54:44,577 : INFO : EPOCH 6 - PROGRESS: at 10.10% examples, 411437 words/s, in_qsize 15, out_qsize 0\n",
      "2022-06-16 13:54:45,635 : INFO : EPOCH 6 - PROGRESS: at 15.73% examples, 420525 words/s, in_qsize 15, out_qsize 0\n",
      "2022-06-16 13:54:46,699 : INFO : EPOCH 6 - PROGRESS: at 21.46% examples, 426515 words/s, in_qsize 15, out_qsize 0\n",
      "2022-06-16 13:54:47,716 : INFO : EPOCH 6 - PROGRESS: at 26.99% examples, 430466 words/s, in_qsize 15, out_qsize 2\n",
      "2022-06-16 13:54:48,733 : INFO : EPOCH 6 - PROGRESS: at 32.30% examples, 430308 words/s, in_qsize 15, out_qsize 1\n",
      "2022-06-16 13:54:49,770 : INFO : EPOCH 6 - PROGRESS: at 37.70% examples, 431509 words/s, in_qsize 15, out_qsize 1\n",
      "2022-06-16 13:54:50,820 : INFO : EPOCH 6 - PROGRESS: at 43.32% examples, 431560 words/s, in_qsize 15, out_qsize 0\n",
      "2022-06-16 13:54:51,824 : INFO : EPOCH 6 - PROGRESS: at 48.62% examples, 431928 words/s, in_qsize 13, out_qsize 2\n",
      "2022-06-16 13:54:52,840 : INFO : EPOCH 6 - PROGRESS: at 54.14% examples, 433488 words/s, in_qsize 15, out_qsize 0\n",
      "2022-06-16 13:54:53,858 : INFO : EPOCH 6 - PROGRESS: at 59.55% examples, 433873 words/s, in_qsize 15, out_qsize 0\n",
      "2022-06-16 13:54:54,985 : INFO : EPOCH 6 - PROGRESS: at 65.50% examples, 433942 words/s, in_qsize 15, out_qsize 0\n",
      "2022-06-16 13:54:56,042 : INFO : EPOCH 6 - PROGRESS: at 71.34% examples, 435595 words/s, in_qsize 15, out_qsize 0\n",
      "2022-06-16 13:54:57,097 : INFO : EPOCH 6 - PROGRESS: at 76.88% examples, 435205 words/s, in_qsize 16, out_qsize 1\n",
      "2022-06-16 13:54:58,120 : INFO : EPOCH 6 - PROGRESS: at 82.42% examples, 435818 words/s, in_qsize 14, out_qsize 1\n",
      "2022-06-16 13:54:59,136 : INFO : EPOCH 6 - PROGRESS: at 87.94% examples, 436520 words/s, in_qsize 15, out_qsize 0\n",
      "2022-06-16 13:55:00,266 : INFO : EPOCH 6 - PROGRESS: at 93.70% examples, 435276 words/s, in_qsize 16, out_qsize 3\n",
      "2022-06-16 13:55:01,360 : INFO : EPOCH 6 - PROGRESS: at 97.82% examples, 427952 words/s, in_qsize 16, out_qsize 0\n",
      "2022-06-16 13:55:01,697 : INFO : worker thread finished; awaiting finish of 7 more threads\n",
      "2022-06-16 13:55:01,703 : INFO : worker thread finished; awaiting finish of 6 more threads\n",
      "2022-06-16 13:55:01,736 : INFO : worker thread finished; awaiting finish of 5 more threads\n",
      "2022-06-16 13:55:01,803 : INFO : worker thread finished; awaiting finish of 4 more threads\n",
      "2022-06-16 13:55:01,820 : INFO : worker thread finished; awaiting finish of 3 more threads\n",
      "2022-06-16 13:55:01,855 : INFO : worker thread finished; awaiting finish of 2 more threads\n",
      "2022-06-16 13:55:01,862 : INFO : worker thread finished; awaiting finish of 1 more threads\n",
      "2022-06-16 13:55:01,863 : INFO : worker thread finished; awaiting finish of 0 more threads\n",
      "2022-06-16 13:55:01,864 : INFO : EPOCH - 6 : training on 9227204 raw words (8222801 effective words) took 19.3s, 426038 effective words/s\n",
      "2022-06-16 13:55:02,958 : INFO : EPOCH 7 - PROGRESS: at 3.69% examples, 300126 words/s, in_qsize 16, out_qsize 5\n",
      "2022-06-16 13:55:03,987 : INFO : EPOCH 7 - PROGRESS: at 9.99% examples, 402338 words/s, in_qsize 15, out_qsize 0\n",
      "2022-06-16 13:55:05,063 : INFO : EPOCH 7 - PROGRESS: at 15.62% examples, 411956 words/s, in_qsize 15, out_qsize 0\n",
      "2022-06-16 13:55:06,066 : INFO : EPOCH 7 - PROGRESS: at 21.35% examples, 426259 words/s, in_qsize 15, out_qsize 0\n",
      "2022-06-16 13:55:07,068 : INFO : EPOCH 7 - PROGRESS: at 26.45% examples, 424717 words/s, in_qsize 15, out_qsize 0\n",
      "2022-06-16 13:55:08,074 : INFO : EPOCH 7 - PROGRESS: at 31.87% examples, 427690 words/s, in_qsize 13, out_qsize 0\n",
      "2022-06-16 13:55:09,091 : INFO : EPOCH 7 - PROGRESS: at 37.16% examples, 427857 words/s, in_qsize 15, out_qsize 0\n",
      "2022-06-16 13:55:10,134 : INFO : EPOCH 7 - PROGRESS: at 42.46% examples, 426714 words/s, in_qsize 16, out_qsize 1\n",
      "2022-06-16 13:55:11,134 : INFO : EPOCH 7 - PROGRESS: at 47.76% examples, 427803 words/s, in_qsize 16, out_qsize 4\n",
      "2022-06-16 13:55:12,142 : INFO : EPOCH 7 - PROGRESS: at 52.95% examples, 427463 words/s, in_qsize 15, out_qsize 0\n",
      "2022-06-16 13:55:13,162 : INFO : EPOCH 7 - PROGRESS: at 58.58% examples, 429937 words/s, in_qsize 15, out_qsize 0\n",
      "2022-06-16 13:55:14,236 : INFO : EPOCH 7 - PROGRESS: at 64.19% examples, 430030 words/s, in_qsize 15, out_qsize 0\n",
      "2022-06-16 13:55:15,262 : INFO : EPOCH 7 - PROGRESS: at 69.61% examples, 430374 words/s, in_qsize 16, out_qsize 0\n",
      "2022-06-16 13:55:16,293 : INFO : EPOCH 7 - PROGRESS: at 75.35% examples, 432322 words/s, in_qsize 15, out_qsize 0\n",
      "2022-06-16 13:55:17,305 : INFO : EPOCH 7 - PROGRESS: at 80.47% examples, 431124 words/s, in_qsize 16, out_qsize 1\n",
      "2022-06-16 13:55:18,332 : INFO : EPOCH 7 - PROGRESS: at 86.53% examples, 434507 words/s, in_qsize 15, out_qsize 0\n",
      "2022-06-16 13:55:19,343 : INFO : EPOCH 7 - PROGRESS: at 91.52% examples, 432791 words/s, in_qsize 16, out_qsize 1\n",
      "2022-06-16 13:55:20,355 : INFO : EPOCH 7 - PROGRESS: at 96.96% examples, 433176 words/s, in_qsize 15, out_qsize 0\n",
      "2022-06-16 13:55:20,826 : INFO : worker thread finished; awaiting finish of 7 more threads\n",
      "2022-06-16 13:55:20,835 : INFO : worker thread finished; awaiting finish of 6 more threads\n",
      "2022-06-16 13:55:20,841 : INFO : worker thread finished; awaiting finish of 5 more threads\n",
      "2022-06-16 13:55:20,848 : INFO : worker thread finished; awaiting finish of 4 more threads\n",
      "2022-06-16 13:55:20,857 : INFO : worker thread finished; awaiting finish of 3 more threads\n",
      "2022-06-16 13:55:20,870 : INFO : worker thread finished; awaiting finish of 2 more threads\n",
      "2022-06-16 13:55:20,893 : INFO : worker thread finished; awaiting finish of 1 more threads\n",
      "2022-06-16 13:55:20,902 : INFO : worker thread finished; awaiting finish of 0 more threads\n",
      "2022-06-16 13:55:20,903 : INFO : EPOCH - 7 : training on 9227204 raw words (8223631 effective words) took 19.0s, 433862 effective words/s\n",
      "2022-06-16 13:55:21,928 : INFO : EPOCH 8 - PROGRESS: at 2.71% examples, 220286 words/s, in_qsize 14, out_qsize 1\n",
      "2022-06-16 13:55:23,057 : INFO : EPOCH 8 - PROGRESS: at 5.54% examples, 212174 words/s, in_qsize 15, out_qsize 0\n",
      "2022-06-16 13:55:24,169 : INFO : EPOCH 8 - PROGRESS: at 8.47% examples, 213685 words/s, in_qsize 15, out_qsize 2\n",
      "2022-06-16 13:55:25,282 : INFO : EPOCH 8 - PROGRESS: at 11.40% examples, 214321 words/s, in_qsize 15, out_qsize 1\n",
      "2022-06-16 13:55:26,365 : INFO : EPOCH 8 - PROGRESS: at 16.70% examples, 252775 words/s, in_qsize 15, out_qsize 5\n",
      "2022-06-16 13:55:27,410 : INFO : EPOCH 8 - PROGRESS: at 22.33% examples, 282791 words/s, in_qsize 15, out_qsize 1\n",
      "2022-06-16 13:55:28,414 : INFO : EPOCH 8 - PROGRESS: at 27.64% examples, 302972 words/s, in_qsize 12, out_qsize 3\n",
      "2022-06-16 13:55:29,414 : INFO : EPOCH 8 - PROGRESS: at 33.27% examples, 321789 words/s, in_qsize 15, out_qsize 0\n",
      "2022-06-16 13:55:30,420 : INFO : EPOCH 8 - PROGRESS: at 38.46% examples, 332744 words/s, in_qsize 15, out_qsize 1\n",
      "2022-06-16 13:55:31,423 : INFO : EPOCH 8 - PROGRESS: at 43.32% examples, 339144 words/s, in_qsize 15, out_qsize 0\n",
      "2022-06-16 13:55:32,474 : INFO : EPOCH 8 - PROGRESS: at 48.84% examples, 347608 words/s, in_qsize 14, out_qsize 1\n",
      "2022-06-16 13:55:33,501 : INFO : EPOCH 8 - PROGRESS: at 54.46% examples, 356092 words/s, in_qsize 16, out_qsize 1\n",
      "2022-06-16 13:55:34,580 : INFO : EPOCH 8 - PROGRESS: at 60.31% examples, 363167 words/s, in_qsize 15, out_qsize 0\n",
      "2022-06-16 13:55:35,581 : INFO : EPOCH 8 - PROGRESS: at 66.04% examples, 370577 words/s, in_qsize 12, out_qsize 0\n",
      "2022-06-16 13:55:36,599 : INFO : EPOCH 8 - PROGRESS: at 71.35% examples, 374349 words/s, in_qsize 15, out_qsize 0\n",
      "2022-06-16 13:55:37,631 : INFO : EPOCH 8 - PROGRESS: at 76.55% examples, 376814 words/s, in_qsize 14, out_qsize 1\n",
      "2022-06-16 13:55:38,636 : INFO : EPOCH 8 - PROGRESS: at 82.10% examples, 381061 words/s, in_qsize 14, out_qsize 0\n",
      "2022-06-16 13:55:39,675 : INFO : EPOCH 8 - PROGRESS: at 87.29% examples, 382733 words/s, in_qsize 15, out_qsize 0\n",
      "2022-06-16 13:55:40,683 : INFO : EPOCH 8 - PROGRESS: at 92.72% examples, 385734 words/s, in_qsize 16, out_qsize 1\n",
      "2022-06-16 13:55:41,684 : INFO : EPOCH 8 - PROGRESS: at 98.04% examples, 388154 words/s, in_qsize 15, out_qsize 0\n",
      "2022-06-16 13:55:41,910 : INFO : worker thread finished; awaiting finish of 7 more threads\n",
      "2022-06-16 13:55:41,919 : INFO : worker thread finished; awaiting finish of 6 more threads\n",
      "2022-06-16 13:55:41,938 : INFO : worker thread finished; awaiting finish of 5 more threads\n",
      "2022-06-16 13:55:41,964 : INFO : worker thread finished; awaiting finish of 4 more threads\n",
      "2022-06-16 13:55:41,967 : INFO : worker thread finished; awaiting finish of 3 more threads\n",
      "2022-06-16 13:55:41,972 : INFO : worker thread finished; awaiting finish of 2 more threads\n",
      "2022-06-16 13:55:41,978 : INFO : worker thread finished; awaiting finish of 1 more threads\n",
      "2022-06-16 13:55:41,979 : INFO : worker thread finished; awaiting finish of 0 more threads\n",
      "2022-06-16 13:55:41,980 : INFO : EPOCH - 8 : training on 9227204 raw words (8222394 effective words) took 21.1s, 390359 effective words/s\n",
      "2022-06-16 13:55:43,008 : INFO : EPOCH 9 - PROGRESS: at 5.00% examples, 405940 words/s, in_qsize 16, out_qsize 1\n",
      "2022-06-16 13:55:44,017 : INFO : EPOCH 9 - PROGRESS: at 10.53% examples, 428299 words/s, in_qsize 15, out_qsize 0\n",
      "2022-06-16 13:55:45,053 : INFO : EPOCH 9 - PROGRESS: at 16.05% examples, 431660 words/s, in_qsize 15, out_qsize 0\n",
      "2022-06-16 13:55:46,060 : INFO : EPOCH 9 - PROGRESS: at 21.24% examples, 430020 words/s, in_qsize 16, out_qsize 0\n",
      "2022-06-16 13:55:47,098 : INFO : EPOCH 9 - PROGRESS: at 26.88% examples, 433273 words/s, in_qsize 16, out_qsize 1\n",
      "2022-06-16 13:55:48,153 : INFO : EPOCH 9 - PROGRESS: at 31.97% examples, 427109 words/s, in_qsize 15, out_qsize 0\n",
      "2022-06-16 13:55:49,177 : INFO : EPOCH 9 - PROGRESS: at 37.48% examples, 429470 words/s, in_qsize 15, out_qsize 0\n",
      "2022-06-16 13:55:50,193 : INFO : EPOCH 9 - PROGRESS: at 42.78% examples, 429474 words/s, in_qsize 15, out_qsize 0\n",
      "2022-06-16 13:55:51,198 : INFO : EPOCH 9 - PROGRESS: at 48.30% examples, 431974 words/s, in_qsize 16, out_qsize 0\n",
      "2022-06-16 13:55:52,235 : INFO : EPOCH 9 - PROGRESS: at 53.16% examples, 427379 words/s, in_qsize 15, out_qsize 1\n",
      "2022-06-16 13:55:53,249 : INFO : EPOCH 9 - PROGRESS: at 58.36% examples, 426882 words/s, in_qsize 12, out_qsize 3\n",
      "2022-06-16 13:55:54,254 : INFO : EPOCH 9 - PROGRESS: at 63.97% examples, 429675 words/s, in_qsize 15, out_qsize 0\n",
      "2022-06-16 13:55:55,256 : INFO : EPOCH 9 - PROGRESS: at 69.18% examples, 429435 words/s, in_qsize 15, out_qsize 0\n",
      "2022-06-16 13:55:56,277 : INFO : EPOCH 9 - PROGRESS: at 74.70% examples, 430529 words/s, in_qsize 16, out_qsize 0\n",
      "2022-06-16 13:55:57,299 : INFO : EPOCH 9 - PROGRESS: at 79.70% examples, 428526 words/s, in_qsize 14, out_qsize 1\n",
      "2022-06-16 13:55:58,306 : INFO : EPOCH 9 - PROGRESS: at 85.23% examples, 429929 words/s, in_qsize 16, out_qsize 0\n",
      "2022-06-16 13:55:59,350 : INFO : EPOCH 9 - PROGRESS: at 88.69% examples, 421324 words/s, in_qsize 15, out_qsize 1\n",
      "2022-06-16 13:56:00,346 : INFO : EPOCH 9 - PROGRESS: at 91.63% examples, 411072 words/s, in_qsize 14, out_qsize 5\n",
      "2022-06-16 13:56:01,371 : INFO : EPOCH 9 - PROGRESS: at 95.12% examples, 404417 words/s, in_qsize 15, out_qsize 1\n",
      "2022-06-16 13:56:02,151 : INFO : worker thread finished; awaiting finish of 7 more threads\n",
      "2022-06-16 13:56:02,159 : INFO : worker thread finished; awaiting finish of 6 more threads\n",
      "2022-06-16 13:56:02,162 : INFO : worker thread finished; awaiting finish of 5 more threads\n",
      "2022-06-16 13:56:02,166 : INFO : worker thread finished; awaiting finish of 4 more threads\n",
      "2022-06-16 13:56:02,191 : INFO : worker thread finished; awaiting finish of 3 more threads\n",
      "2022-06-16 13:56:02,207 : INFO : worker thread finished; awaiting finish of 2 more threads\n",
      "2022-06-16 13:56:02,220 : INFO : worker thread finished; awaiting finish of 1 more threads\n",
      "2022-06-16 13:56:02,228 : INFO : worker thread finished; awaiting finish of 0 more threads\n",
      "2022-06-16 13:56:02,229 : INFO : EPOCH - 9 : training on 9227204 raw words (8222301 effective words) took 20.2s, 406440 effective words/s\n",
      "2022-06-16 13:56:03,299 : INFO : EPOCH 10 - PROGRESS: at 5.00% examples, 387795 words/s, in_qsize 16, out_qsize 1\n",
      "2022-06-16 13:56:04,310 : INFO : EPOCH 10 - PROGRESS: at 10.86% examples, 430961 words/s, in_qsize 15, out_qsize 0\n",
      "2022-06-16 13:56:05,345 : INFO : EPOCH 10 - PROGRESS: at 16.38% examples, 433539 words/s, in_qsize 16, out_qsize 0\n",
      "2022-06-16 13:56:06,360 : INFO : EPOCH 10 - PROGRESS: at 22.11% examples, 441393 words/s, in_qsize 16, out_qsize 0\n",
      "2022-06-16 13:56:07,389 : INFO : EPOCH 10 - PROGRESS: at 27.64% examples, 441470 words/s, in_qsize 13, out_qsize 1\n",
      "2022-06-16 13:56:08,422 : INFO : EPOCH 10 - PROGRESS: at 32.94% examples, 438275 words/s, in_qsize 12, out_qsize 6\n",
      "2022-06-16 13:56:09,428 : INFO : EPOCH 10 - PROGRESS: at 38.89% examples, 445137 words/s, in_qsize 15, out_qsize 0\n",
      "2022-06-16 13:56:10,432 : INFO : EPOCH 10 - PROGRESS: at 44.07% examples, 442768 words/s, in_qsize 15, out_qsize 0\n",
      "2022-06-16 13:56:11,444 : INFO : EPOCH 10 - PROGRESS: at 49.38% examples, 441520 words/s, in_qsize 15, out_qsize 0\n",
      "2022-06-16 13:56:12,446 : INFO : EPOCH 10 - PROGRESS: at 54.46% examples, 439219 words/s, in_qsize 15, out_qsize 0\n",
      "2022-06-16 13:56:13,497 : INFO : EPOCH 10 - PROGRESS: at 60.19% examples, 440170 words/s, in_qsize 16, out_qsize 1\n",
      "2022-06-16 13:56:14,513 : INFO : EPOCH 10 - PROGRESS: at 65.72% examples, 440754 words/s, in_qsize 15, out_qsize 0\n",
      "2022-06-16 13:56:15,535 : INFO : EPOCH 10 - PROGRESS: at 71.24% examples, 441031 words/s, in_qsize 15, out_qsize 0\n",
      "2022-06-16 13:56:16,535 : INFO : EPOCH 10 - PROGRESS: at 77.09% examples, 443788 words/s, in_qsize 14, out_qsize 0\n",
      "2022-06-16 13:56:17,541 : INFO : EPOCH 10 - PROGRESS: at 82.42% examples, 443144 words/s, in_qsize 15, out_qsize 0\n",
      "2022-06-16 13:56:18,569 : INFO : EPOCH 10 - PROGRESS: at 88.59% examples, 446328 words/s, in_qsize 16, out_qsize 0\n",
      "2022-06-16 13:56:19,590 : INFO : EPOCH 10 - PROGRESS: at 93.59% examples, 443651 words/s, in_qsize 14, out_qsize 1\n",
      "2022-06-16 13:56:20,594 : INFO : EPOCH 10 - PROGRESS: at 99.01% examples, 443659 words/s, in_qsize 7, out_qsize 4\n",
      "2022-06-16 13:56:20,612 : INFO : worker thread finished; awaiting finish of 7 more threads\n",
      "2022-06-16 13:56:20,613 : INFO : worker thread finished; awaiting finish of 6 more threads\n",
      "2022-06-16 13:56:20,618 : INFO : worker thread finished; awaiting finish of 5 more threads\n",
      "2022-06-16 13:56:20,623 : INFO : worker thread finished; awaiting finish of 4 more threads\n",
      "2022-06-16 13:56:20,630 : INFO : worker thread finished; awaiting finish of 3 more threads\n",
      "2022-06-16 13:56:20,653 : INFO : worker thread finished; awaiting finish of 2 more threads\n",
      "2022-06-16 13:56:20,670 : INFO : worker thread finished; awaiting finish of 1 more threads\n",
      "2022-06-16 13:56:20,678 : INFO : worker thread finished; awaiting finish of 0 more threads\n",
      "2022-06-16 13:56:20,681 : INFO : EPOCH - 10 : training on 9227204 raw words (8222670 effective words) took 18.4s, 445967 effective words/s\n",
      "2022-06-16 13:56:21,747 : INFO : EPOCH 11 - PROGRESS: at 4.78% examples, 371928 words/s, in_qsize 14, out_qsize 1\n",
      "2022-06-16 13:56:22,787 : INFO : EPOCH 11 - PROGRESS: at 10.42% examples, 408504 words/s, in_qsize 15, out_qsize 0\n",
      "2022-06-16 13:56:23,816 : INFO : EPOCH 11 - PROGRESS: at 15.95% examples, 419252 words/s, in_qsize 16, out_qsize 1\n",
      "2022-06-16 13:56:24,820 : INFO : EPOCH 11 - PROGRESS: at 21.24% examples, 423082 words/s, in_qsize 14, out_qsize 1\n",
      "2022-06-16 13:56:25,846 : INFO : EPOCH 11 - PROGRESS: at 26.45% examples, 421853 words/s, in_qsize 16, out_qsize 1\n",
      "2022-06-16 13:56:26,958 : INFO : EPOCH 11 - PROGRESS: at 31.97% examples, 421629 words/s, in_qsize 15, out_qsize 2\n",
      "2022-06-16 13:56:27,950 : INFO : EPOCH 11 - PROGRESS: at 37.27% examples, 422307 words/s, in_qsize 15, out_qsize 0\n",
      "2022-06-16 13:56:28,961 : INFO : EPOCH 11 - PROGRESS: at 42.89% examples, 426656 words/s, in_qsize 16, out_qsize 1\n",
      "2022-06-16 13:56:30,000 : INFO : EPOCH 11 - PROGRESS: at 47.65% examples, 421131 words/s, in_qsize 11, out_qsize 4\n",
      "2022-06-16 13:56:31,093 : INFO : EPOCH 11 - PROGRESS: at 53.48% examples, 423166 words/s, in_qsize 15, out_qsize 0\n",
      "2022-06-16 13:56:32,178 : INFO : EPOCH 11 - PROGRESS: at 59.12% examples, 423568 words/s, in_qsize 15, out_qsize 0\n",
      "2022-06-16 13:56:33,195 : INFO : EPOCH 11 - PROGRESS: at 64.73% examples, 426125 words/s, in_qsize 15, out_qsize 0\n",
      "2022-06-16 13:56:34,257 : INFO : EPOCH 11 - PROGRESS: at 70.37% examples, 426918 words/s, in_qsize 14, out_qsize 1\n",
      "2022-06-16 13:56:35,260 : INFO : EPOCH 11 - PROGRESS: at 75.78% examples, 428062 words/s, in_qsize 14, out_qsize 1\n",
      "2022-06-16 13:56:36,300 : INFO : EPOCH 11 - PROGRESS: at 81.01% examples, 426949 words/s, in_qsize 15, out_qsize 6\n",
      "2022-06-16 13:56:37,324 : INFO : EPOCH 11 - PROGRESS: at 86.75% examples, 429033 words/s, in_qsize 15, out_qsize 1\n",
      "2022-06-16 13:56:38,335 : INFO : EPOCH 11 - PROGRESS: at 92.39% examples, 430700 words/s, in_qsize 16, out_qsize 0\n",
      "2022-06-16 13:56:39,344 : INFO : EPOCH 11 - PROGRESS: at 97.93% examples, 431751 words/s, in_qsize 15, out_qsize 0\n",
      "2022-06-16 13:56:39,646 : INFO : worker thread finished; awaiting finish of 7 more threads\n",
      "2022-06-16 13:56:39,659 : INFO : worker thread finished; awaiting finish of 6 more threads\n",
      "2022-06-16 13:56:39,661 : INFO : worker thread finished; awaiting finish of 5 more threads\n",
      "2022-06-16 13:56:39,666 : INFO : worker thread finished; awaiting finish of 4 more threads\n",
      "2022-06-16 13:56:39,678 : INFO : worker thread finished; awaiting finish of 3 more threads\n",
      "2022-06-16 13:56:39,681 : INFO : worker thread finished; awaiting finish of 2 more threads\n",
      "2022-06-16 13:56:39,697 : INFO : worker thread finished; awaiting finish of 1 more threads\n",
      "2022-06-16 13:56:39,709 : INFO : worker thread finished; awaiting finish of 0 more threads\n",
      "2022-06-16 13:56:39,710 : INFO : EPOCH - 11 : training on 9227204 raw words (8222949 effective words) took 19.0s, 432396 effective words/s\n",
      "2022-06-16 13:56:40,731 : INFO : EPOCH 12 - PROGRESS: at 4.89% examples, 399271 words/s, in_qsize 16, out_qsize 1\n",
      "2022-06-16 13:56:41,802 : INFO : EPOCH 12 - PROGRESS: at 10.42% examples, 412340 words/s, in_qsize 16, out_qsize 0\n",
      "2022-06-16 13:56:42,809 : INFO : EPOCH 12 - PROGRESS: at 16.16% examples, 430762 words/s, in_qsize 16, out_qsize 1\n",
      "2022-06-16 13:56:43,816 : INFO : EPOCH 12 - PROGRESS: at 21.14% examples, 424900 words/s, in_qsize 15, out_qsize 2\n",
      "2022-06-16 13:56:44,898 : INFO : EPOCH 12 - PROGRESS: at 26.67% examples, 423898 words/s, in_qsize 15, out_qsize 3\n",
      "2022-06-16 13:56:45,903 : INFO : EPOCH 12 - PROGRESS: at 32.62% examples, 434268 words/s, in_qsize 15, out_qsize 0\n",
      "2022-06-16 13:56:46,956 : INFO : EPOCH 12 - PROGRESS: at 38.03% examples, 433763 words/s, in_qsize 15, out_qsize 3\n",
      "2022-06-16 13:56:47,970 : INFO : EPOCH 12 - PROGRESS: at 43.43% examples, 433413 words/s, in_qsize 12, out_qsize 3\n",
      "2022-06-16 13:56:49,078 : INFO : EPOCH 12 - PROGRESS: at 46.78% examples, 411598 words/s, in_qsize 14, out_qsize 1\n",
      "2022-06-16 13:56:50,096 : INFO : EPOCH 12 - PROGRESS: at 50.78% examples, 403008 words/s, in_qsize 15, out_qsize 0\n",
      "2022-06-16 13:56:51,171 : INFO : EPOCH 12 - PROGRESS: at 56.18% examples, 404092 words/s, in_qsize 14, out_qsize 6\n",
      "2022-06-16 13:56:52,249 : INFO : EPOCH 12 - PROGRESS: at 62.14% examples, 408457 words/s, in_qsize 16, out_qsize 1\n",
      "2022-06-16 13:56:53,280 : INFO : EPOCH 12 - PROGRESS: at 67.77% examples, 411564 words/s, in_qsize 15, out_qsize 0\n",
      "2022-06-16 13:56:54,303 : INFO : EPOCH 12 - PROGRESS: at 73.19% examples, 413385 words/s, in_qsize 11, out_qsize 4\n",
      "2022-06-16 13:56:55,325 : INFO : EPOCH 12 - PROGRESS: at 78.95% examples, 417097 words/s, in_qsize 12, out_qsize 3\n",
      "2022-06-16 13:56:56,341 : INFO : EPOCH 12 - PROGRESS: at 84.37% examples, 417729 words/s, in_qsize 15, out_qsize 0\n",
      "2022-06-16 13:56:57,355 : INFO : EPOCH 12 - PROGRESS: at 90.00% examples, 419977 words/s, in_qsize 15, out_qsize 1\n",
      "2022-06-16 13:56:58,371 : INFO : EPOCH 12 - PROGRESS: at 95.77% examples, 422391 words/s, in_qsize 15, out_qsize 0\n",
      "2022-06-16 13:56:59,064 : INFO : worker thread finished; awaiting finish of 7 more threads\n",
      "2022-06-16 13:56:59,132 : INFO : worker thread finished; awaiting finish of 6 more threads\n",
      "2022-06-16 13:56:59,159 : INFO : worker thread finished; awaiting finish of 5 more threads\n",
      "2022-06-16 13:56:59,165 : INFO : worker thread finished; awaiting finish of 4 more threads\n",
      "2022-06-16 13:56:59,168 : INFO : worker thread finished; awaiting finish of 3 more threads\n",
      "2022-06-16 13:56:59,174 : INFO : worker thread finished; awaiting finish of 2 more threads\n",
      "2022-06-16 13:56:59,175 : INFO : worker thread finished; awaiting finish of 1 more threads\n",
      "2022-06-16 13:56:59,179 : INFO : worker thread finished; awaiting finish of 0 more threads\n",
      "2022-06-16 13:56:59,181 : INFO : EPOCH - 12 : training on 9227204 raw words (8223221 effective words) took 19.5s, 422724 effective words/s\n",
      "2022-06-16 13:57:00,213 : INFO : EPOCH 13 - PROGRESS: at 4.34% examples, 352648 words/s, in_qsize 15, out_qsize 0\n",
      "2022-06-16 13:57:01,327 : INFO : EPOCH 13 - PROGRESS: at 9.88% examples, 381745 words/s, in_qsize 15, out_qsize 0\n",
      "2022-06-16 13:57:02,329 : INFO : EPOCH 13 - PROGRESS: at 15.30% examples, 401684 words/s, in_qsize 12, out_qsize 1\n",
      "2022-06-16 13:57:03,356 : INFO : EPOCH 13 - PROGRESS: at 20.38% examples, 403199 words/s, in_qsize 16, out_qsize 2\n",
      "2022-06-16 13:57:04,440 : INFO : EPOCH 13 - PROGRESS: at 25.59% examples, 401406 words/s, in_qsize 16, out_qsize 2\n",
      "2022-06-16 13:57:05,442 : INFO : EPOCH 13 - PROGRESS: at 30.78% examples, 405488 words/s, in_qsize 12, out_qsize 2\n",
      "2022-06-16 13:57:06,494 : INFO : EPOCH 13 - PROGRESS: at 35.86% examples, 404390 words/s, in_qsize 15, out_qsize 3\n",
      "2022-06-16 13:57:07,577 : INFO : EPOCH 13 - PROGRESS: at 41.59% examples, 408454 words/s, in_qsize 15, out_qsize 0\n",
      "2022-06-16 13:57:08,592 : INFO : EPOCH 13 - PROGRESS: at 46.67% examples, 408918 words/s, in_qsize 15, out_qsize 1\n",
      "2022-06-16 13:57:09,594 : INFO : EPOCH 13 - PROGRESS: at 51.32% examples, 406346 words/s, in_qsize 14, out_qsize 5\n",
      "2022-06-16 13:57:10,651 : INFO : EPOCH 13 - PROGRESS: at 56.84% examples, 408507 words/s, in_qsize 15, out_qsize 0\n",
      "2022-06-16 13:57:11,670 : INFO : EPOCH 13 - PROGRESS: at 62.14% examples, 410148 words/s, in_qsize 15, out_qsize 0\n",
      "2022-06-16 13:57:12,696 : INFO : EPOCH 13 - PROGRESS: at 67.12% examples, 409319 words/s, in_qsize 14, out_qsize 1\n",
      "2022-06-16 13:57:13,762 : INFO : EPOCH 13 - PROGRESS: at 72.75% examples, 411167 words/s, in_qsize 15, out_qsize 0\n",
      "2022-06-16 13:57:14,769 : INFO : EPOCH 13 - PROGRESS: at 77.74% examples, 410875 words/s, in_qsize 13, out_qsize 3\n",
      "2022-06-16 13:57:15,817 : INFO : EPOCH 13 - PROGRESS: at 82.96% examples, 410690 words/s, in_qsize 15, out_qsize 0\n",
      "2022-06-16 13:57:16,826 : INFO : EPOCH 13 - PROGRESS: at 88.37% examples, 412436 words/s, in_qsize 15, out_qsize 0\n",
      "2022-06-16 13:57:17,827 : INFO : EPOCH 13 - PROGRESS: at 93.59% examples, 413194 words/s, in_qsize 14, out_qsize 1\n",
      "2022-06-16 13:57:18,914 : INFO : EPOCH 13 - PROGRESS: at 98.58% examples, 411203 words/s, in_qsize 8, out_qsize 6\n",
      "2022-06-16 13:57:18,917 : INFO : worker thread finished; awaiting finish of 7 more threads\n",
      "2022-06-16 13:57:18,960 : INFO : worker thread finished; awaiting finish of 6 more threads\n",
      "2022-06-16 13:57:19,033 : INFO : worker thread finished; awaiting finish of 5 more threads\n",
      "2022-06-16 13:57:19,046 : INFO : worker thread finished; awaiting finish of 4 more threads\n",
      "2022-06-16 13:57:19,053 : INFO : worker thread finished; awaiting finish of 3 more threads\n",
      "2022-06-16 13:57:19,055 : INFO : worker thread finished; awaiting finish of 2 more threads\n",
      "2022-06-16 13:57:19,060 : INFO : worker thread finished; awaiting finish of 1 more threads\n",
      "2022-06-16 13:57:19,069 : INFO : worker thread finished; awaiting finish of 0 more threads\n",
      "2022-06-16 13:57:19,070 : INFO : EPOCH - 13 : training on 9227204 raw words (8222271 effective words) took 19.9s, 413848 effective words/s\n",
      "2022-06-16 13:57:20,182 : INFO : EPOCH 14 - PROGRESS: at 4.67% examples, 352631 words/s, in_qsize 15, out_qsize 0\n",
      "2022-06-16 13:57:21,192 : INFO : EPOCH 14 - PROGRESS: at 9.99% examples, 391125 words/s, in_qsize 15, out_qsize 0\n",
      "2022-06-16 13:57:22,207 : INFO : EPOCH 14 - PROGRESS: at 15.19% examples, 400917 words/s, in_qsize 15, out_qsize 0\n",
      "2022-06-16 13:57:23,207 : INFO : EPOCH 14 - PROGRESS: at 20.27% examples, 405152 words/s, in_qsize 15, out_qsize 0\n",
      "2022-06-16 13:57:24,239 : INFO : EPOCH 14 - PROGRESS: at 25.37% examples, 405314 words/s, in_qsize 14, out_qsize 1\n",
      "2022-06-16 13:57:25,287 : INFO : EPOCH 14 - PROGRESS: at 30.35% examples, 402938 words/s, in_qsize 13, out_qsize 2\n",
      "2022-06-16 13:57:26,291 : INFO : EPOCH 14 - PROGRESS: at 36.07% examples, 412284 words/s, in_qsize 15, out_qsize 0\n",
      "2022-06-16 13:57:27,320 : INFO : EPOCH 14 - PROGRESS: at 40.94% examples, 409444 words/s, in_qsize 15, out_qsize 2\n",
      "2022-06-16 13:57:28,335 : INFO : EPOCH 14 - PROGRESS: at 46.35% examples, 412676 words/s, in_qsize 15, out_qsize 0\n",
      "2022-06-16 13:57:29,360 : INFO : EPOCH 14 - PROGRESS: at 51.43% examples, 412309 words/s, in_qsize 15, out_qsize 0\n",
      "2022-06-16 13:57:30,368 : INFO : EPOCH 14 - PROGRESS: at 56.51% examples, 412578 words/s, in_qsize 15, out_qsize 0\n",
      "2022-06-16 13:57:31,440 : INFO : EPOCH 14 - PROGRESS: at 61.82% examples, 412455 words/s, in_qsize 15, out_qsize 1\n",
      "2022-06-16 13:57:32,468 : INFO : EPOCH 14 - PROGRESS: at 67.13% examples, 413084 words/s, in_qsize 16, out_qsize 0\n",
      "2022-06-16 13:57:33,538 : INFO : EPOCH 14 - PROGRESS: at 72.75% examples, 414553 words/s, in_qsize 16, out_qsize 0\n",
      "2022-06-16 13:57:34,627 : INFO : EPOCH 14 - PROGRESS: at 78.51% examples, 415875 words/s, in_qsize 15, out_qsize 0\n",
      "2022-06-16 13:57:35,678 : INFO : EPOCH 14 - PROGRESS: at 83.94% examples, 416377 words/s, in_qsize 16, out_qsize 2\n",
      "2022-06-16 13:57:36,737 : INFO : EPOCH 14 - PROGRESS: at 89.67% examples, 418127 words/s, in_qsize 15, out_qsize 0\n",
      "2022-06-16 13:57:37,746 : INFO : EPOCH 14 - PROGRESS: at 94.90% examples, 418394 words/s, in_qsize 15, out_qsize 1\n",
      "2022-06-16 13:57:38,486 : INFO : worker thread finished; awaiting finish of 7 more threads\n",
      "2022-06-16 13:57:38,497 : INFO : worker thread finished; awaiting finish of 6 more threads\n",
      "2022-06-16 13:57:38,503 : INFO : worker thread finished; awaiting finish of 5 more threads\n",
      "2022-06-16 13:57:38,510 : INFO : worker thread finished; awaiting finish of 4 more threads\n",
      "2022-06-16 13:57:38,519 : INFO : worker thread finished; awaiting finish of 3 more threads\n",
      "2022-06-16 13:57:38,544 : INFO : worker thread finished; awaiting finish of 2 more threads\n",
      "2022-06-16 13:57:38,547 : INFO : worker thread finished; awaiting finish of 1 more threads\n",
      "2022-06-16 13:57:38,552 : INFO : worker thread finished; awaiting finish of 0 more threads\n",
      "2022-06-16 13:57:38,556 : INFO : EPOCH - 14 : training on 9227204 raw words (8222042 effective words) took 19.5s, 422539 effective words/s\n",
      "2022-06-16 13:57:39,596 : INFO : EPOCH 15 - PROGRESS: at 4.45% examples, 362466 words/s, in_qsize 16, out_qsize 3\n",
      "2022-06-16 13:57:40,593 : INFO : EPOCH 15 - PROGRESS: at 9.77% examples, 396259 words/s, in_qsize 15, out_qsize 3\n",
      "2022-06-16 13:57:41,629 : INFO : EPOCH 15 - PROGRESS: at 15.30% examples, 412160 words/s, in_qsize 15, out_qsize 2\n",
      "2022-06-16 13:57:42,672 : INFO : EPOCH 15 - PROGRESS: at 20.92% examples, 418923 words/s, in_qsize 16, out_qsize 6\n",
      "2022-06-16 13:57:43,678 : INFO : EPOCH 15 - PROGRESS: at 26.88% examples, 432389 words/s, in_qsize 14, out_qsize 1\n",
      "2022-06-16 13:57:44,686 : INFO : EPOCH 15 - PROGRESS: at 32.08% examples, 431053 words/s, in_qsize 15, out_qsize 0\n",
      "2022-06-16 13:57:45,687 : INFO : EPOCH 15 - PROGRESS: at 37.59% examples, 434223 words/s, in_qsize 14, out_qsize 1\n",
      "2022-06-16 13:57:46,701 : INFO : EPOCH 15 - PROGRESS: at 43.21% examples, 437077 words/s, in_qsize 15, out_qsize 0\n",
      "2022-06-16 13:57:47,748 : INFO : EPOCH 15 - PROGRESS: at 46.57% examples, 417290 words/s, in_qsize 15, out_qsize 2\n",
      "2022-06-16 13:57:48,754 : INFO : EPOCH 15 - PROGRESS: at 49.70% examples, 401486 words/s, in_qsize 13, out_qsize 4\n",
      "2022-06-16 13:57:49,768 : INFO : EPOCH 15 - PROGRESS: at 53.70% examples, 394587 words/s, in_qsize 13, out_qsize 1\n",
      "2022-06-16 13:57:50,817 : INFO : EPOCH 15 - PROGRESS: at 59.12% examples, 397183 words/s, in_qsize 15, out_qsize 0\n",
      "2022-06-16 13:57:51,866 : INFO : EPOCH 15 - PROGRESS: at 64.62% examples, 400077 words/s, in_qsize 16, out_qsize 0\n",
      "2022-06-16 13:57:52,871 : INFO : EPOCH 15 - PROGRESS: at 70.26% examples, 404304 words/s, in_qsize 14, out_qsize 1\n",
      "2022-06-16 13:57:53,878 : INFO : EPOCH 15 - PROGRESS: at 75.78% examples, 407371 words/s, in_qsize 15, out_qsize 0\n",
      "2022-06-16 13:57:54,973 : INFO : EPOCH 15 - PROGRESS: at 81.34% examples, 407889 words/s, in_qsize 15, out_qsize 0\n",
      "2022-06-16 13:57:55,994 : INFO : EPOCH 15 - PROGRESS: at 87.07% examples, 411064 words/s, in_qsize 14, out_qsize 0\n",
      "2022-06-16 13:57:57,006 : INFO : EPOCH 15 - PROGRESS: at 92.17% examples, 411172 words/s, in_qsize 15, out_qsize 0\n",
      "2022-06-16 13:57:58,007 : INFO : EPOCH 15 - PROGRESS: at 97.07% examples, 410622 words/s, in_qsize 14, out_qsize 1\n",
      "2022-06-16 13:57:58,366 : INFO : worker thread finished; awaiting finish of 7 more threads\n",
      "2022-06-16 13:57:58,374 : INFO : worker thread finished; awaiting finish of 6 more threads\n",
      "2022-06-16 13:57:58,378 : INFO : worker thread finished; awaiting finish of 5 more threads\n",
      "2022-06-16 13:57:58,410 : INFO : worker thread finished; awaiting finish of 4 more threads\n",
      "2022-06-16 13:57:58,423 : INFO : worker thread finished; awaiting finish of 3 more threads\n",
      "2022-06-16 13:57:58,459 : INFO : worker thread finished; awaiting finish of 2 more threads\n",
      "2022-06-16 13:57:58,474 : INFO : worker thread finished; awaiting finish of 1 more threads\n",
      "2022-06-16 13:57:58,478 : INFO : worker thread finished; awaiting finish of 0 more threads\n",
      "2022-06-16 13:57:58,481 : INFO : EPOCH - 15 : training on 9227204 raw words (8223529 effective words) took 19.9s, 412984 effective words/s\n",
      "2022-06-16 13:57:59,501 : INFO : EPOCH 16 - PROGRESS: at 4.45% examples, 363493 words/s, in_qsize 16, out_qsize 1\n",
      "2022-06-16 13:58:00,510 : INFO : EPOCH 16 - PROGRESS: at 9.66% examples, 393672 words/s, in_qsize 15, out_qsize 0\n",
      "2022-06-16 13:58:01,532 : INFO : EPOCH 16 - PROGRESS: at 15.30% examples, 413597 words/s, in_qsize 16, out_qsize 0\n",
      "2022-06-16 13:58:02,541 : INFO : EPOCH 16 - PROGRESS: at 20.16% examples, 409500 words/s, in_qsize 15, out_qsize 0\n",
      "2022-06-16 13:58:03,553 : INFO : EPOCH 16 - PROGRESS: at 25.91% examples, 421041 words/s, in_qsize 15, out_qsize 0\n",
      "2022-06-16 13:58:04,562 : INFO : EPOCH 16 - PROGRESS: at 31.54% examples, 427411 words/s, in_qsize 15, out_qsize 0\n",
      "2022-06-16 13:58:05,584 : INFO : EPOCH 16 - PROGRESS: at 36.94% examples, 428521 words/s, in_qsize 15, out_qsize 0\n",
      "2022-06-16 13:58:06,588 : INFO : EPOCH 16 - PROGRESS: at 42.24% examples, 429301 words/s, in_qsize 16, out_qsize 0\n",
      "2022-06-16 13:58:07,599 : INFO : EPOCH 16 - PROGRESS: at 47.75% examples, 431525 words/s, in_qsize 15, out_qsize 0\n",
      "2022-06-16 13:58:08,639 : INFO : EPOCH 16 - PROGRESS: at 53.38% examples, 432974 words/s, in_qsize 13, out_qsize 5\n",
      "2022-06-16 13:58:09,645 : INFO : EPOCH 16 - PROGRESS: at 59.01% examples, 435500 words/s, in_qsize 15, out_qsize 1\n",
      "2022-06-16 13:58:10,645 : INFO : EPOCH 16 - PROGRESS: at 64.51% examples, 437012 words/s, in_qsize 14, out_qsize 1\n",
      "2022-06-16 13:58:11,663 : INFO : EPOCH 16 - PROGRESS: at 69.94% examples, 437055 words/s, in_qsize 16, out_qsize 1\n",
      "2022-06-16 13:58:12,699 : INFO : EPOCH 16 - PROGRESS: at 75.46% examples, 437145 words/s, in_qsize 15, out_qsize 0\n",
      "2022-06-16 13:58:13,758 : INFO : EPOCH 16 - PROGRESS: at 80.90% examples, 435985 words/s, in_qsize 16, out_qsize 0\n",
      "2022-06-16 13:58:14,768 : INFO : EPOCH 16 - PROGRESS: at 86.64% examples, 437931 words/s, in_qsize 16, out_qsize 0\n",
      "2022-06-16 13:58:15,817 : INFO : EPOCH 16 - PROGRESS: at 92.39% examples, 438611 words/s, in_qsize 14, out_qsize 1\n",
      "2022-06-16 13:58:16,879 : INFO : EPOCH 16 - PROGRESS: at 98.25% examples, 439426 words/s, in_qsize 14, out_qsize 2\n",
      "2022-06-16 13:58:17,007 : INFO : worker thread finished; awaiting finish of 7 more threads\n",
      "2022-06-16 13:58:17,016 : INFO : worker thread finished; awaiting finish of 6 more threads\n",
      "2022-06-16 13:58:17,063 : INFO : worker thread finished; awaiting finish of 5 more threads\n",
      "2022-06-16 13:58:17,071 : INFO : worker thread finished; awaiting finish of 4 more threads\n",
      "2022-06-16 13:58:17,072 : INFO : worker thread finished; awaiting finish of 3 more threads\n",
      "2022-06-16 13:58:17,076 : INFO : worker thread finished; awaiting finish of 2 more threads\n",
      "2022-06-16 13:58:17,089 : INFO : worker thread finished; awaiting finish of 1 more threads\n",
      "2022-06-16 13:58:17,090 : INFO : worker thread finished; awaiting finish of 0 more threads\n",
      "2022-06-16 13:58:17,093 : INFO : EPOCH - 16 : training on 9227204 raw words (8221717 effective words) took 18.6s, 442092 effective words/s\n",
      "2022-06-16 13:58:18,125 : INFO : EPOCH 17 - PROGRESS: at 4.78% examples, 385930 words/s, in_qsize 13, out_qsize 2\n",
      "2022-06-16 13:58:19,176 : INFO : EPOCH 17 - PROGRESS: at 10.53% examples, 418331 words/s, in_qsize 15, out_qsize 0\n",
      "2022-06-16 13:58:20,221 : INFO : EPOCH 17 - PROGRESS: at 15.94% examples, 420907 words/s, in_qsize 16, out_qsize 2\n",
      "2022-06-16 13:58:21,264 : INFO : EPOCH 17 - PROGRESS: at 21.46% examples, 424625 words/s, in_qsize 16, out_qsize 1\n",
      "2022-06-16 13:58:22,284 : INFO : EPOCH 17 - PROGRESS: at 27.21% examples, 432146 words/s, in_qsize 15, out_qsize 2\n",
      "2022-06-16 13:58:23,361 : INFO : EPOCH 17 - PROGRESS: at 32.84% examples, 433441 words/s, in_qsize 15, out_qsize 3\n",
      "2022-06-16 13:58:24,363 : INFO : EPOCH 17 - PROGRESS: at 38.57% examples, 437307 words/s, in_qsize 15, out_qsize 0\n",
      "2022-06-16 13:58:25,368 : INFO : EPOCH 17 - PROGRESS: at 43.96% examples, 437986 words/s, in_qsize 12, out_qsize 3\n",
      "2022-06-16 13:58:26,371 : INFO : EPOCH 17 - PROGRESS: at 49.16% examples, 436771 words/s, in_qsize 15, out_qsize 0\n",
      "2022-06-16 13:58:27,419 : INFO : EPOCH 17 - PROGRESS: at 54.46% examples, 435146 words/s, in_qsize 16, out_qsize 1\n",
      "2022-06-16 13:58:28,438 : INFO : EPOCH 17 - PROGRESS: at 59.55% examples, 432614 words/s, in_qsize 13, out_qsize 2\n",
      "2022-06-16 13:58:29,460 : INFO : EPOCH 17 - PROGRESS: at 64.95% examples, 432861 words/s, in_qsize 14, out_qsize 1\n",
      "2022-06-16 13:58:30,504 : INFO : EPOCH 17 - PROGRESS: at 70.05% examples, 431049 words/s, in_qsize 16, out_qsize 5\n",
      "2022-06-16 13:58:31,546 : INFO : EPOCH 17 - PROGRESS: at 75.78% examples, 431993 words/s, in_qsize 14, out_qsize 1\n",
      "2022-06-16 13:58:32,554 : INFO : EPOCH 17 - PROGRESS: at 81.23% examples, 432642 words/s, in_qsize 15, out_qsize 0\n",
      "2022-06-16 13:58:33,566 : INFO : EPOCH 17 - PROGRESS: at 86.75% examples, 433626 words/s, in_qsize 16, out_qsize 0\n",
      "2022-06-16 13:58:34,623 : INFO : EPOCH 17 - PROGRESS: at 92.07% examples, 432370 words/s, in_qsize 14, out_qsize 4\n",
      "2022-06-16 13:58:35,632 : INFO : EPOCH 17 - PROGRESS: at 97.50% examples, 432852 words/s, in_qsize 15, out_qsize 0\n",
      "2022-06-16 13:58:36,134 : INFO : worker thread finished; awaiting finish of 7 more threads\n",
      "2022-06-16 13:58:36,159 : INFO : worker thread finished; awaiting finish of 6 more threads\n",
      "2022-06-16 13:58:36,336 : INFO : worker thread finished; awaiting finish of 5 more threads\n",
      "2022-06-16 13:58:36,344 : INFO : worker thread finished; awaiting finish of 4 more threads\n",
      "2022-06-16 13:58:36,346 : INFO : worker thread finished; awaiting finish of 3 more threads\n",
      "2022-06-16 13:58:36,352 : INFO : worker thread finished; awaiting finish of 2 more threads\n",
      "2022-06-16 13:58:36,359 : INFO : worker thread finished; awaiting finish of 1 more threads\n",
      "2022-06-16 13:58:36,373 : INFO : worker thread finished; awaiting finish of 0 more threads\n",
      "2022-06-16 13:58:36,382 : INFO : EPOCH - 17 : training on 9227204 raw words (8222892 effective words) took 19.3s, 426677 effective words/s\n",
      "2022-06-16 13:58:37,468 : INFO : EPOCH 18 - PROGRESS: at 3.25% examples, 256065 words/s, in_qsize 15, out_qsize 4\n",
      "2022-06-16 13:58:38,518 : INFO : EPOCH 18 - PROGRESS: at 9.12% examples, 354725 words/s, in_qsize 16, out_qsize 1\n",
      "2022-06-16 13:58:39,538 : INFO : EPOCH 18 - PROGRESS: at 15.08% examples, 395685 words/s, in_qsize 15, out_qsize 0\n",
      "2022-06-16 13:58:40,615 : INFO : EPOCH 18 - PROGRESS: at 20.27% examples, 395990 words/s, in_qsize 16, out_qsize 1\n",
      "2022-06-16 13:58:41,619 : INFO : EPOCH 18 - PROGRESS: at 25.80% examples, 406885 words/s, in_qsize 16, out_qsize 0\n",
      "2022-06-16 13:58:42,670 : INFO : EPOCH 18 - PROGRESS: at 31.21% examples, 409819 words/s, in_qsize 15, out_qsize 0\n",
      "2022-06-16 13:58:43,760 : INFO : EPOCH 18 - PROGRESS: at 36.94% examples, 413268 words/s, in_qsize 12, out_qsize 3\n",
      "2022-06-16 13:58:44,771 : INFO : EPOCH 18 - PROGRESS: at 42.35% examples, 416586 words/s, in_qsize 16, out_qsize 0\n",
      "2022-06-16 13:58:45,821 : INFO : EPOCH 18 - PROGRESS: at 47.97% examples, 419338 words/s, in_qsize 15, out_qsize 0\n",
      "2022-06-16 13:58:46,832 : INFO : EPOCH 18 - PROGRESS: at 53.49% examples, 422280 words/s, in_qsize 15, out_qsize 0\n",
      "2022-06-16 13:58:47,853 : INFO : EPOCH 18 - PROGRESS: at 58.69% examples, 421994 words/s, in_qsize 12, out_qsize 3\n",
      "2022-06-16 13:58:48,890 : INFO : EPOCH 18 - PROGRESS: at 64.19% examples, 423333 words/s, in_qsize 15, out_qsize 0\n",
      "2022-06-16 13:58:49,893 : INFO : EPOCH 18 - PROGRESS: at 69.72% examples, 425487 words/s, in_qsize 15, out_qsize 0\n",
      "2022-06-16 13:58:50,898 : INFO : EPOCH 18 - PROGRESS: at 75.24% examples, 427326 words/s, in_qsize 15, out_qsize 0\n",
      "2022-06-16 13:58:51,902 : INFO : EPOCH 18 - PROGRESS: at 80.58% examples, 427808 words/s, in_qsize 15, out_qsize 0\n",
      "2022-06-16 13:58:52,958 : INFO : EPOCH 18 - PROGRESS: at 85.88% examples, 426869 words/s, in_qsize 16, out_qsize 1\n",
      "2022-06-16 13:58:53,967 : INFO : EPOCH 18 - PROGRESS: at 91.63% examples, 429203 words/s, in_qsize 15, out_qsize 0\n",
      "2022-06-16 13:58:54,996 : INFO : EPOCH 18 - PROGRESS: at 97.18% examples, 429881 words/s, in_qsize 15, out_qsize 0\n",
      "2022-06-16 13:58:55,334 : INFO : worker thread finished; awaiting finish of 7 more threads\n",
      "2022-06-16 13:58:55,337 : INFO : worker thread finished; awaiting finish of 6 more threads\n",
      "2022-06-16 13:58:55,341 : INFO : worker thread finished; awaiting finish of 5 more threads\n",
      "2022-06-16 13:58:55,343 : INFO : worker thread finished; awaiting finish of 4 more threads\n",
      "2022-06-16 13:58:55,345 : INFO : worker thread finished; awaiting finish of 3 more threads\n",
      "2022-06-16 13:58:55,365 : INFO : worker thread finished; awaiting finish of 2 more threads\n",
      "2022-06-16 13:58:55,370 : INFO : worker thread finished; awaiting finish of 1 more threads\n",
      "2022-06-16 13:58:55,387 : INFO : worker thread finished; awaiting finish of 0 more threads\n",
      "2022-06-16 13:58:55,389 : INFO : EPOCH - 18 : training on 9227204 raw words (8222829 effective words) took 19.0s, 433246 effective words/s\n",
      "2022-06-16 13:58:56,422 : INFO : EPOCH 19 - PROGRESS: at 5.21% examples, 421959 words/s, in_qsize 16, out_qsize 0\n",
      "2022-06-16 13:58:57,435 : INFO : EPOCH 19 - PROGRESS: at 10.43% examples, 422264 words/s, in_qsize 14, out_qsize 1\n",
      "2022-06-16 13:58:58,451 : INFO : EPOCH 19 - PROGRESS: at 16.16% examples, 436279 words/s, in_qsize 15, out_qsize 2\n",
      "2022-06-16 13:58:59,485 : INFO : EPOCH 19 - PROGRESS: at 21.68% examples, 437043 words/s, in_qsize 15, out_qsize 1\n",
      "2022-06-16 13:59:00,506 : INFO : EPOCH 19 - PROGRESS: at 27.20% examples, 438608 words/s, in_qsize 15, out_qsize 0\n",
      "2022-06-16 13:59:01,533 : INFO : EPOCH 19 - PROGRESS: at 32.51% examples, 436328 words/s, in_qsize 15, out_qsize 0\n",
      "2022-06-16 13:59:02,552 : INFO : EPOCH 19 - PROGRESS: at 37.81% examples, 435191 words/s, in_qsize 13, out_qsize 5\n",
      "2022-06-16 13:59:03,559 : INFO : EPOCH 19 - PROGRESS: at 43.43% examples, 438172 words/s, in_qsize 13, out_qsize 3\n",
      "2022-06-16 13:59:04,599 : INFO : EPOCH 19 - PROGRESS: at 48.84% examples, 437070 words/s, in_qsize 15, out_qsize 7\n",
      "2022-06-16 13:59:05,603 : INFO : EPOCH 19 - PROGRESS: at 54.89% examples, 442987 words/s, in_qsize 16, out_qsize 0\n",
      "2022-06-16 13:59:06,607 : INFO : EPOCH 19 - PROGRESS: at 60.30% examples, 443079 words/s, in_qsize 13, out_qsize 2\n",
      "2022-06-16 13:59:07,620 : INFO : EPOCH 19 - PROGRESS: at 65.83% examples, 443514 words/s, in_qsize 14, out_qsize 0\n",
      "2022-06-16 13:59:08,628 : INFO : EPOCH 19 - PROGRESS: at 71.02% examples, 442053 words/s, in_qsize 13, out_qsize 2\n",
      "2022-06-16 13:59:09,642 : INFO : EPOCH 19 - PROGRESS: at 76.77% examples, 443702 words/s, in_qsize 14, out_qsize 1\n",
      "2022-06-16 13:59:10,660 : INFO : EPOCH 19 - PROGRESS: at 82.31% examples, 443881 words/s, in_qsize 15, out_qsize 0\n",
      "2022-06-16 13:59:11,696 : INFO : EPOCH 19 - PROGRESS: at 87.72% examples, 442982 words/s, in_qsize 15, out_qsize 0\n",
      "2022-06-16 13:59:12,703 : INFO : EPOCH 19 - PROGRESS: at 93.26% examples, 443435 words/s, in_qsize 15, out_qsize 0\n",
      "2022-06-16 13:59:13,726 : INFO : EPOCH 19 - PROGRESS: at 98.58% examples, 442489 words/s, in_qsize 13, out_qsize 1\n",
      "2022-06-16 13:59:13,811 : INFO : worker thread finished; awaiting finish of 7 more threads\n",
      "2022-06-16 13:59:13,820 : INFO : worker thread finished; awaiting finish of 6 more threads\n",
      "2022-06-16 13:59:13,826 : INFO : worker thread finished; awaiting finish of 5 more threads\n",
      "2022-06-16 13:59:13,862 : INFO : worker thread finished; awaiting finish of 4 more threads\n",
      "2022-06-16 13:59:13,864 : INFO : worker thread finished; awaiting finish of 3 more threads\n",
      "2022-06-16 13:59:13,888 : INFO : worker thread finished; awaiting finish of 2 more threads\n",
      "2022-06-16 13:59:13,894 : INFO : worker thread finished; awaiting finish of 1 more threads\n",
      "2022-06-16 13:59:13,901 : INFO : worker thread finished; awaiting finish of 0 more threads\n",
      "2022-06-16 13:59:13,902 : INFO : EPOCH - 19 : training on 9227204 raw words (8221783 effective words) took 18.5s, 444577 effective words/s\n",
      "2022-06-16 13:59:14,934 : INFO : EPOCH 20 - PROGRESS: at 4.56% examples, 369130 words/s, in_qsize 11, out_qsize 4\n",
      "2022-06-16 13:59:15,950 : INFO : EPOCH 20 - PROGRESS: at 10.75% examples, 434452 words/s, in_qsize 16, out_qsize 0\n",
      "2022-06-16 13:59:17,029 : INFO : EPOCH 20 - PROGRESS: at 16.16% examples, 426830 words/s, in_qsize 15, out_qsize 3\n",
      "2022-06-16 13:59:18,113 : INFO : EPOCH 20 - PROGRESS: at 21.79% examples, 426999 words/s, in_qsize 9, out_qsize 6\n",
      "2022-06-16 13:59:19,159 : INFO : EPOCH 20 - PROGRESS: at 27.42% examples, 432548 words/s, in_qsize 15, out_qsize 0\n",
      "2022-06-16 13:59:20,132 : INFO : EPOCH 20 - PROGRESS: at 32.40% examples, 428840 words/s, in_qsize 14, out_qsize 3\n",
      "2022-06-16 13:59:21,147 : INFO : EPOCH 20 - PROGRESS: at 37.81% examples, 430233 words/s, in_qsize 15, out_qsize 0\n",
      "2022-06-16 13:59:22,156 : INFO : EPOCH 20 - PROGRESS: at 42.89% examples, 428330 words/s, in_qsize 14, out_qsize 1\n",
      "2022-06-16 13:59:23,245 : INFO : EPOCH 20 - PROGRESS: at 48.51% examples, 428000 words/s, in_qsize 11, out_qsize 4\n",
      "2022-06-16 13:59:24,282 : INFO : EPOCH 20 - PROGRESS: at 54.14% examples, 429904 words/s, in_qsize 10, out_qsize 5\n",
      "2022-06-16 13:59:25,305 : INFO : EPOCH 20 - PROGRESS: at 59.77% examples, 431992 words/s, in_qsize 15, out_qsize 0\n",
      "2022-06-16 13:59:26,321 : INFO : EPOCH 20 - PROGRESS: at 65.17% examples, 432495 words/s, in_qsize 15, out_qsize 2\n",
      "2022-06-16 13:59:27,363 : INFO : EPOCH 20 - PROGRESS: at 70.69% examples, 432762 words/s, in_qsize 13, out_qsize 4\n",
      "2022-06-16 13:59:28,430 : INFO : EPOCH 20 - PROGRESS: at 76.44% examples, 433471 words/s, in_qsize 14, out_qsize 1\n",
      "2022-06-16 13:59:29,477 : INFO : EPOCH 20 - PROGRESS: at 82.42% examples, 435824 words/s, in_qsize 16, out_qsize 1\n",
      "2022-06-16 13:59:30,506 : INFO : EPOCH 20 - PROGRESS: at 87.83% examples, 435613 words/s, in_qsize 15, out_qsize 0\n",
      "2022-06-16 13:59:31,519 : INFO : EPOCH 20 - PROGRESS: at 92.94% examples, 434320 words/s, in_qsize 15, out_qsize 0\n",
      "2022-06-16 13:59:32,543 : INFO : EPOCH 20 - PROGRESS: at 97.93% examples, 432444 words/s, in_qsize 16, out_qsize 6\n",
      "2022-06-16 13:59:32,736 : INFO : worker thread finished; awaiting finish of 7 more threads\n",
      "2022-06-16 13:59:32,746 : INFO : worker thread finished; awaiting finish of 6 more threads\n",
      "2022-06-16 13:59:32,756 : INFO : worker thread finished; awaiting finish of 5 more threads\n",
      "2022-06-16 13:59:32,762 : INFO : worker thread finished; awaiting finish of 4 more threads\n",
      "2022-06-16 13:59:32,766 : INFO : worker thread finished; awaiting finish of 3 more threads\n",
      "2022-06-16 13:59:32,791 : INFO : worker thread finished; awaiting finish of 2 more threads\n",
      "2022-06-16 13:59:32,793 : INFO : worker thread finished; awaiting finish of 1 more threads\n",
      "2022-06-16 13:59:32,810 : INFO : worker thread finished; awaiting finish of 0 more threads\n",
      "2022-06-16 13:59:32,811 : INFO : EPOCH - 20 : training on 9227204 raw words (8223257 effective words) took 18.9s, 435301 effective words/s\n",
      "2022-06-16 13:59:33,835 : INFO : EPOCH 21 - PROGRESS: at 5.10% examples, 414943 words/s, in_qsize 14, out_qsize 0\n",
      "2022-06-16 13:59:34,859 : INFO : EPOCH 21 - PROGRESS: at 10.21% examples, 411938 words/s, in_qsize 16, out_qsize 1\n",
      "2022-06-16 13:59:35,880 : INFO : EPOCH 21 - PROGRESS: at 15.51% examples, 417049 words/s, in_qsize 14, out_qsize 1\n",
      "2022-06-16 13:59:36,951 : INFO : EPOCH 21 - PROGRESS: at 21.24% examples, 423237 words/s, in_qsize 15, out_qsize 0\n",
      "2022-06-16 13:59:37,990 : INFO : EPOCH 21 - PROGRESS: at 26.67% examples, 424371 words/s, in_qsize 15, out_qsize 1\n",
      "2022-06-16 13:59:39,010 : INFO : EPOCH 21 - PROGRESS: at 32.08% examples, 426497 words/s, in_qsize 16, out_qsize 0\n",
      "2022-06-16 13:59:40,053 : INFO : EPOCH 21 - PROGRESS: at 37.48% examples, 426511 words/s, in_qsize 16, out_qsize 1\n",
      "2022-06-16 13:59:41,087 : INFO : EPOCH 21 - PROGRESS: at 43.21% examples, 430316 words/s, in_qsize 16, out_qsize 0\n",
      "2022-06-16 13:59:42,111 : INFO : EPOCH 21 - PROGRESS: at 48.19% examples, 427030 words/s, in_qsize 15, out_qsize 0\n",
      "2022-06-16 13:59:43,174 : INFO : EPOCH 21 - PROGRESS: at 53.92% examples, 428783 words/s, in_qsize 15, out_qsize 0\n",
      "2022-06-16 13:59:44,265 : INFO : EPOCH 21 - PROGRESS: at 59.55% examples, 428432 words/s, in_qsize 14, out_qsize 1\n",
      "2022-06-16 13:59:45,293 : INFO : EPOCH 21 - PROGRESS: at 65.28% examples, 430950 words/s, in_qsize 16, out_qsize 0\n",
      "2022-06-16 13:59:46,304 : INFO : EPOCH 21 - PROGRESS: at 70.48% examples, 430378 words/s, in_qsize 15, out_qsize 0\n",
      "2022-06-16 13:59:47,339 : INFO : EPOCH 21 - PROGRESS: at 76.11% examples, 431582 words/s, in_qsize 15, out_qsize 1\n",
      "2022-06-16 13:59:48,342 : INFO : EPOCH 21 - PROGRESS: at 81.34% examples, 431236 words/s, in_qsize 16, out_qsize 1\n",
      "2022-06-16 13:59:49,346 : INFO : EPOCH 21 - PROGRESS: at 87.07% examples, 433582 words/s, in_qsize 15, out_qsize 0\n",
      "2022-06-16 13:59:50,358 : INFO : EPOCH 21 - PROGRESS: at 92.07% examples, 431916 words/s, in_qsize 13, out_qsize 2\n",
      "2022-06-16 13:59:51,414 : INFO : EPOCH 21 - PROGRESS: at 97.71% examples, 432282 words/s, in_qsize 15, out_qsize 0\n",
      "2022-06-16 13:59:51,666 : INFO : worker thread finished; awaiting finish of 7 more threads\n",
      "2022-06-16 13:59:51,668 : INFO : worker thread finished; awaiting finish of 6 more threads\n",
      "2022-06-16 13:59:51,678 : INFO : worker thread finished; awaiting finish of 5 more threads\n",
      "2022-06-16 13:59:51,701 : INFO : worker thread finished; awaiting finish of 4 more threads\n",
      "2022-06-16 13:59:51,738 : INFO : worker thread finished; awaiting finish of 3 more threads\n",
      "2022-06-16 13:59:51,759 : INFO : worker thread finished; awaiting finish of 2 more threads\n",
      "2022-06-16 13:59:51,765 : INFO : worker thread finished; awaiting finish of 1 more threads\n",
      "2022-06-16 13:59:51,771 : INFO : worker thread finished; awaiting finish of 0 more threads\n",
      "2022-06-16 13:59:51,773 : INFO : EPOCH - 21 : training on 9227204 raw words (8223424 effective words) took 18.9s, 434022 effective words/s\n",
      "2022-06-16 13:59:52,843 : INFO : EPOCH 22 - PROGRESS: at 4.89% examples, 379099 words/s, in_qsize 15, out_qsize 0\n",
      "2022-06-16 13:59:53,904 : INFO : EPOCH 22 - PROGRESS: at 10.43% examples, 403769 words/s, in_qsize 11, out_qsize 4\n",
      "2022-06-16 13:59:54,962 : INFO : EPOCH 22 - PROGRESS: at 16.37% examples, 423571 words/s, in_qsize 15, out_qsize 0\n",
      "2022-06-16 13:59:55,974 : INFO : EPOCH 22 - PROGRESS: at 21.68% examples, 425479 words/s, in_qsize 15, out_qsize 0\n",
      "2022-06-16 13:59:56,981 : INFO : EPOCH 22 - PROGRESS: at 26.77% examples, 423621 words/s, in_qsize 12, out_qsize 3\n",
      "2022-06-16 13:59:58,016 : INFO : EPOCH 22 - PROGRESS: at 32.30% examples, 426135 words/s, in_qsize 15, out_qsize 0\n",
      "2022-06-16 13:59:59,060 : INFO : EPOCH 22 - PROGRESS: at 37.70% examples, 426245 words/s, in_qsize 16, out_qsize 5\n",
      "2022-06-16 14:00:00,079 : INFO : EPOCH 22 - PROGRESS: at 42.89% examples, 425447 words/s, in_qsize 13, out_qsize 3\n",
      "2022-06-16 14:00:01,100 : INFO : EPOCH 22 - PROGRESS: at 48.19% examples, 425659 words/s, in_qsize 16, out_qsize 3\n",
      "2022-06-16 14:00:02,143 : INFO : EPOCH 22 - PROGRESS: at 53.81% examples, 427569 words/s, in_qsize 15, out_qsize 0\n",
      "2022-06-16 14:00:03,178 : INFO : EPOCH 22 - PROGRESS: at 59.23% examples, 427825 words/s, in_qsize 16, out_qsize 1\n",
      "2022-06-16 14:00:04,214 : INFO : EPOCH 22 - PROGRESS: at 65.06% examples, 430847 words/s, in_qsize 16, out_qsize 1\n",
      "2022-06-16 14:00:05,253 : INFO : EPOCH 22 - PROGRESS: at 70.37% examples, 430014 words/s, in_qsize 14, out_qsize 1\n",
      "2022-06-16 14:00:06,267 : INFO : EPOCH 22 - PROGRESS: at 75.89% examples, 431251 words/s, in_qsize 15, out_qsize 0\n",
      "2022-06-16 14:00:07,278 : INFO : EPOCH 22 - PROGRESS: at 81.23% examples, 431281 words/s, in_qsize 13, out_qsize 2\n",
      "2022-06-16 14:00:08,291 : INFO : EPOCH 22 - PROGRESS: at 86.96% examples, 433404 words/s, in_qsize 15, out_qsize 1\n",
      "2022-06-16 14:00:09,326 : INFO : EPOCH 22 - PROGRESS: at 92.50% examples, 433705 words/s, in_qsize 15, out_qsize 0\n",
      "2022-06-16 14:00:10,386 : INFO : EPOCH 22 - PROGRESS: at 97.82% examples, 432453 words/s, in_qsize 16, out_qsize 2\n",
      "2022-06-16 14:00:10,628 : INFO : worker thread finished; awaiting finish of 7 more threads\n",
      "2022-06-16 14:00:10,650 : INFO : worker thread finished; awaiting finish of 6 more threads\n",
      "2022-06-16 14:00:10,671 : INFO : worker thread finished; awaiting finish of 5 more threads\n",
      "2022-06-16 14:00:10,683 : INFO : worker thread finished; awaiting finish of 4 more threads\n",
      "2022-06-16 14:00:10,696 : INFO : worker thread finished; awaiting finish of 3 more threads\n",
      "2022-06-16 14:00:10,707 : INFO : worker thread finished; awaiting finish of 2 more threads\n",
      "2022-06-16 14:00:10,718 : INFO : worker thread finished; awaiting finish of 1 more threads\n",
      "2022-06-16 14:00:10,729 : INFO : worker thread finished; awaiting finish of 0 more threads\n",
      "2022-06-16 14:00:10,731 : INFO : EPOCH - 22 : training on 9227204 raw words (8222821 effective words) took 18.9s, 434027 effective words/s\n",
      "2022-06-16 14:00:11,747 : INFO : EPOCH 23 - PROGRESS: at 4.88% examples, 400153 words/s, in_qsize 16, out_qsize 0\n",
      "2022-06-16 14:00:12,775 : INFO : EPOCH 23 - PROGRESS: at 10.42% examples, 421565 words/s, in_qsize 16, out_qsize 0\n",
      "2022-06-16 14:00:13,792 : INFO : EPOCH 23 - PROGRESS: at 15.84% examples, 426965 words/s, in_qsize 16, out_qsize 1\n",
      "2022-06-16 14:00:14,852 : INFO : EPOCH 23 - PROGRESS: at 21.03% examples, 420775 words/s, in_qsize 15, out_qsize 0\n",
      "2022-06-16 14:00:15,867 : INFO : EPOCH 23 - PROGRESS: at 26.12% examples, 419180 words/s, in_qsize 14, out_qsize 1\n",
      "2022-06-16 14:00:16,879 : INFO : EPOCH 23 - PROGRESS: at 29.27% examples, 392132 words/s, in_qsize 15, out_qsize 0\n",
      "2022-06-16 14:00:17,996 : INFO : EPOCH 23 - PROGRESS: at 32.51% examples, 368616 words/s, in_qsize 16, out_qsize 1\n",
      "2022-06-16 14:00:19,048 : INFO : EPOCH 23 - PROGRESS: at 35.21% examples, 348722 words/s, in_qsize 15, out_qsize 3\n",
      "2022-06-16 14:00:20,064 : INFO : EPOCH 23 - PROGRESS: at 38.14% examples, 336521 words/s, in_qsize 16, out_qsize 1\n",
      "2022-06-16 14:00:21,098 : INFO : EPOCH 23 - PROGRESS: at 43.97% examples, 349367 words/s, in_qsize 15, out_qsize 0\n",
      "2022-06-16 14:00:22,105 : INFO : EPOCH 23 - PROGRESS: at 49.05% examples, 355299 words/s, in_qsize 16, out_qsize 3\n",
      "2022-06-16 14:00:23,195 : INFO : EPOCH 23 - PROGRESS: at 54.89% examples, 362849 words/s, in_qsize 14, out_qsize 1\n",
      "2022-06-16 14:00:24,211 : INFO : EPOCH 23 - PROGRESS: at 60.19% examples, 367919 words/s, in_qsize 13, out_qsize 5\n",
      "2022-06-16 14:00:25,224 : INFO : EPOCH 23 - PROGRESS: at 65.72% examples, 373551 words/s, in_qsize 10, out_qsize 5\n",
      "2022-06-16 14:00:26,236 : INFO : EPOCH 23 - PROGRESS: at 71.45% examples, 379621 words/s, in_qsize 15, out_qsize 0\n",
      "2022-06-16 14:00:27,342 : INFO : EPOCH 23 - PROGRESS: at 77.42% examples, 383830 words/s, in_qsize 14, out_qsize 1\n",
      "2022-06-16 14:00:28,381 : INFO : EPOCH 23 - PROGRESS: at 82.86% examples, 386472 words/s, in_qsize 15, out_qsize 0\n",
      "2022-06-16 14:00:29,465 : INFO : EPOCH 23 - PROGRESS: at 88.70% examples, 389785 words/s, in_qsize 15, out_qsize 0\n",
      "2022-06-16 14:00:30,484 : INFO : EPOCH 23 - PROGRESS: at 94.03% examples, 391753 words/s, in_qsize 14, out_qsize 4\n",
      "2022-06-16 14:00:31,369 : INFO : worker thread finished; awaiting finish of 7 more threads\n",
      "2022-06-16 14:00:31,403 : INFO : worker thread finished; awaiting finish of 6 more threads\n",
      "2022-06-16 14:00:31,422 : INFO : worker thread finished; awaiting finish of 5 more threads\n",
      "2022-06-16 14:00:31,430 : INFO : worker thread finished; awaiting finish of 4 more threads\n",
      "2022-06-16 14:00:31,460 : INFO : worker thread finished; awaiting finish of 3 more threads\n",
      "2022-06-16 14:00:31,467 : INFO : worker thread finished; awaiting finish of 2 more threads\n",
      "2022-06-16 14:00:31,469 : INFO : worker thread finished; awaiting finish of 1 more threads\n",
      "2022-06-16 14:00:31,472 : INFO : worker thread finished; awaiting finish of 0 more threads\n",
      "2022-06-16 14:00:31,474 : INFO : EPOCH - 23 : training on 9227204 raw words (8223681 effective words) took 20.7s, 396726 effective words/s\n",
      "2022-06-16 14:00:32,527 : INFO : EPOCH 24 - PROGRESS: at 4.88% examples, 386987 words/s, in_qsize 15, out_qsize 0\n",
      "2022-06-16 14:00:33,531 : INFO : EPOCH 24 - PROGRESS: at 10.75% examples, 432734 words/s, in_qsize 15, out_qsize 0\n",
      "2022-06-16 14:00:34,537 : INFO : EPOCH 24 - PROGRESS: at 16.38% examples, 441607 words/s, in_qsize 15, out_qsize 0\n",
      "2022-06-16 14:00:35,558 : INFO : EPOCH 24 - PROGRESS: at 21.90% examples, 442559 words/s, in_qsize 15, out_qsize 0\n",
      "2022-06-16 14:00:36,593 : INFO : EPOCH 24 - PROGRESS: at 27.10% examples, 437979 words/s, in_qsize 15, out_qsize 0\n",
      "2022-06-16 14:00:37,602 : INFO : EPOCH 24 - PROGRESS: at 32.41% examples, 437291 words/s, in_qsize 15, out_qsize 0\n",
      "2022-06-16 14:00:38,586 : INFO : EPOCH 24 - PROGRESS: at 37.59% examples, 435816 words/s, in_qsize 13, out_qsize 2\n",
      "2022-06-16 14:00:39,589 : INFO : EPOCH 24 - PROGRESS: at 43.21% examples, 439037 words/s, in_qsize 15, out_qsize 0\n",
      "2022-06-16 14:00:40,603 : INFO : EPOCH 24 - PROGRESS: at 47.97% examples, 433220 words/s, in_qsize 13, out_qsize 5\n",
      "2022-06-16 14:00:41,648 : INFO : EPOCH 24 - PROGRESS: at 53.59% examples, 434277 words/s, in_qsize 15, out_qsize 0\n",
      "2022-06-16 14:00:42,679 : INFO : EPOCH 24 - PROGRESS: at 59.33% examples, 436479 words/s, in_qsize 15, out_qsize 0\n",
      "2022-06-16 14:00:43,689 : INFO : EPOCH 24 - PROGRESS: at 64.73% examples, 436816 words/s, in_qsize 14, out_qsize 1\n",
      "2022-06-16 14:00:44,717 : INFO : EPOCH 24 - PROGRESS: at 70.37% examples, 438058 words/s, in_qsize 14, out_qsize 2\n",
      "2022-06-16 14:00:45,718 : INFO : EPOCH 24 - PROGRESS: at 76.22% examples, 440902 words/s, in_qsize 16, out_qsize 1\n",
      "2022-06-16 14:00:46,757 : INFO : EPOCH 24 - PROGRESS: at 81.88% examples, 441239 words/s, in_qsize 15, out_qsize 0\n",
      "2022-06-16 14:00:47,840 : INFO : EPOCH 24 - PROGRESS: at 87.83% examples, 441965 words/s, in_qsize 15, out_qsize 0\n",
      "2022-06-16 14:00:48,874 : INFO : EPOCH 24 - PROGRESS: at 93.59% examples, 442783 words/s, in_qsize 16, out_qsize 0\n",
      "2022-06-16 14:00:49,839 : INFO : worker thread finished; awaiting finish of 7 more threads\n",
      "2022-06-16 14:00:49,859 : INFO : worker thread finished; awaiting finish of 6 more threads\n",
      "2022-06-16 14:00:49,897 : INFO : EPOCH 24 - PROGRESS: at 99.55% examples, 444808 words/s, in_qsize 4, out_qsize 3\n",
      "2022-06-16 14:00:49,902 : INFO : worker thread finished; awaiting finish of 5 more threads\n",
      "2022-06-16 14:00:49,904 : INFO : worker thread finished; awaiting finish of 4 more threads\n",
      "2022-06-16 14:00:49,956 : INFO : worker thread finished; awaiting finish of 3 more threads\n",
      "2022-06-16 14:00:49,961 : INFO : worker thread finished; awaiting finish of 2 more threads\n",
      "2022-06-16 14:00:49,969 : INFO : worker thread finished; awaiting finish of 1 more threads\n",
      "2022-06-16 14:00:49,970 : INFO : worker thread finished; awaiting finish of 0 more threads\n",
      "2022-06-16 14:00:49,971 : INFO : EPOCH - 24 : training on 9227204 raw words (8223001 effective words) took 18.5s, 445011 effective words/s\n",
      "2022-06-16 14:00:51,017 : INFO : EPOCH 25 - PROGRESS: at 4.67% examples, 374386 words/s, in_qsize 13, out_qsize 2\n",
      "2022-06-16 14:00:52,063 : INFO : EPOCH 25 - PROGRESS: at 10.31% examples, 409379 words/s, in_qsize 15, out_qsize 0\n",
      "2022-06-16 14:00:53,088 : INFO : EPOCH 25 - PROGRESS: at 15.62% examples, 414657 words/s, in_qsize 14, out_qsize 5\n",
      "2022-06-16 14:00:54,120 : INFO : EPOCH 25 - PROGRESS: at 21.03% examples, 418840 words/s, in_qsize 16, out_qsize 5\n",
      "2022-06-16 14:00:55,130 : INFO : EPOCH 25 - PROGRESS: at 26.78% examples, 428447 words/s, in_qsize 13, out_qsize 4\n",
      "2022-06-16 14:00:56,192 : INFO : EPOCH 25 - PROGRESS: at 32.41% examples, 429788 words/s, in_qsize 16, out_qsize 1\n",
      "2022-06-16 14:00:57,222 : INFO : EPOCH 25 - PROGRESS: at 38.03% examples, 432611 words/s, in_qsize 15, out_qsize 0\n",
      "2022-06-16 14:00:58,236 : INFO : EPOCH 25 - PROGRESS: at 43.43% examples, 433415 words/s, in_qsize 16, out_qsize 3\n",
      "2022-06-16 14:00:59,331 : INFO : EPOCH 25 - PROGRESS: at 49.16% examples, 433179 words/s, in_qsize 14, out_qsize 1\n",
      "2022-06-16 14:01:00,359 : INFO : EPOCH 25 - PROGRESS: at 54.57% examples, 433191 words/s, in_qsize 16, out_qsize 0\n",
      "2022-06-16 14:01:01,384 : INFO : EPOCH 25 - PROGRESS: at 60.41% examples, 436487 words/s, in_qsize 15, out_qsize 0\n",
      "2022-06-16 14:01:02,412 : INFO : EPOCH 25 - PROGRESS: at 65.17% examples, 431907 words/s, in_qsize 16, out_qsize 0\n",
      "2022-06-16 14:01:03,427 : INFO : EPOCH 25 - PROGRESS: at 70.91% examples, 434407 words/s, in_qsize 15, out_qsize 0\n",
      "2022-06-16 14:01:04,450 : INFO : EPOCH 25 - PROGRESS: at 76.33% examples, 434494 words/s, in_qsize 13, out_qsize 2\n",
      "2022-06-16 14:01:05,508 : INFO : EPOCH 25 - PROGRESS: at 81.99% examples, 434714 words/s, in_qsize 14, out_qsize 3\n",
      "2022-06-16 14:01:06,509 : INFO : EPOCH 25 - PROGRESS: at 87.62% examples, 436416 words/s, in_qsize 16, out_qsize 0\n",
      "2022-06-16 14:01:07,514 : INFO : EPOCH 25 - PROGRESS: at 93.05% examples, 436775 words/s, in_qsize 16, out_qsize 1\n",
      "2022-06-16 14:01:08,597 : INFO : EPOCH 25 - PROGRESS: at 99.12% examples, 438153 words/s, in_qsize 9, out_qsize 0\n",
      "2022-06-16 14:01:08,610 : INFO : worker thread finished; awaiting finish of 7 more threads\n",
      "2022-06-16 14:01:08,615 : INFO : worker thread finished; awaiting finish of 6 more threads\n",
      "2022-06-16 14:01:08,620 : INFO : worker thread finished; awaiting finish of 5 more threads\n",
      "2022-06-16 14:01:08,627 : INFO : worker thread finished; awaiting finish of 4 more threads\n",
      "2022-06-16 14:01:08,634 : INFO : worker thread finished; awaiting finish of 3 more threads\n",
      "2022-06-16 14:01:08,653 : INFO : worker thread finished; awaiting finish of 2 more threads\n",
      "2022-06-16 14:01:08,658 : INFO : worker thread finished; awaiting finish of 1 more threads\n",
      "2022-06-16 14:01:08,660 : INFO : worker thread finished; awaiting finish of 0 more threads\n",
      "2022-06-16 14:01:08,662 : INFO : EPOCH - 25 : training on 9227204 raw words (8223111 effective words) took 18.7s, 440500 effective words/s\n",
      "2022-06-16 14:01:09,712 : INFO : EPOCH 26 - PROGRESS: at 4.56% examples, 363366 words/s, in_qsize 15, out_qsize 0\n",
      "2022-06-16 14:01:10,769 : INFO : EPOCH 26 - PROGRESS: at 10.10% examples, 397159 words/s, in_qsize 16, out_qsize 4\n",
      "2022-06-16 14:01:11,782 : INFO : EPOCH 26 - PROGRESS: at 15.73% examples, 416646 words/s, in_qsize 14, out_qsize 1\n",
      "2022-06-16 14:01:12,840 : INFO : EPOCH 26 - PROGRESS: at 21.46% examples, 424191 words/s, in_qsize 16, out_qsize 0\n",
      "2022-06-16 14:01:13,846 : INFO : EPOCH 26 - PROGRESS: at 26.88% examples, 427868 words/s, in_qsize 13, out_qsize 2\n",
      "2022-06-16 14:01:14,849 : INFO : EPOCH 26 - PROGRESS: at 32.62% examples, 434815 words/s, in_qsize 15, out_qsize 0\n",
      "2022-06-16 14:01:15,859 : INFO : EPOCH 26 - PROGRESS: at 37.81% examples, 433153 words/s, in_qsize 12, out_qsize 4\n",
      "2022-06-16 14:01:16,867 : INFO : EPOCH 26 - PROGRESS: at 43.00% examples, 432024 words/s, in_qsize 15, out_qsize 4\n",
      "2022-06-16 14:01:17,875 : INFO : EPOCH 26 - PROGRESS: at 48.62% examples, 435074 words/s, in_qsize 13, out_qsize 4\n",
      "2022-06-16 14:01:18,907 : INFO : EPOCH 26 - PROGRESS: at 54.13% examples, 435634 words/s, in_qsize 16, out_qsize 0\n",
      "2022-06-16 14:01:19,916 : INFO : EPOCH 26 - PROGRESS: at 59.66% examples, 436989 words/s, in_qsize 15, out_qsize 0\n",
      "2022-06-16 14:01:20,941 : INFO : EPOCH 26 - PROGRESS: at 65.06% examples, 436779 words/s, in_qsize 15, out_qsize 0\n",
      "2022-06-16 14:01:21,947 : INFO : EPOCH 26 - PROGRESS: at 70.48% examples, 437227 words/s, in_qsize 15, out_qsize 0\n",
      "2022-06-16 14:01:22,974 : INFO : EPOCH 26 - PROGRESS: at 75.89% examples, 436994 words/s, in_qsize 15, out_qsize 0\n",
      "2022-06-16 14:01:24,048 : INFO : EPOCH 26 - PROGRESS: at 81.77% examples, 437753 words/s, in_qsize 15, out_qsize 0\n",
      "2022-06-16 14:01:25,074 : INFO : EPOCH 26 - PROGRESS: at 87.29% examples, 438187 words/s, in_qsize 16, out_qsize 4\n",
      "2022-06-16 14:01:26,086 : INFO : EPOCH 26 - PROGRESS: at 93.37% examples, 441215 words/s, in_qsize 15, out_qsize 0\n",
      "2022-06-16 14:01:27,089 : INFO : EPOCH 26 - PROGRESS: at 98.68% examples, 440879 words/s, in_qsize 11, out_qsize 2\n",
      "2022-06-16 14:01:27,135 : INFO : worker thread finished; awaiting finish of 7 more threads\n",
      "2022-06-16 14:01:27,159 : INFO : worker thread finished; awaiting finish of 6 more threads\n",
      "2022-06-16 14:01:27,166 : INFO : worker thread finished; awaiting finish of 5 more threads\n",
      "2022-06-16 14:01:27,186 : INFO : worker thread finished; awaiting finish of 4 more threads\n",
      "2022-06-16 14:01:27,211 : INFO : worker thread finished; awaiting finish of 3 more threads\n",
      "2022-06-16 14:01:27,221 : INFO : worker thread finished; awaiting finish of 2 more threads\n",
      "2022-06-16 14:01:27,228 : INFO : worker thread finished; awaiting finish of 1 more threads\n",
      "2022-06-16 14:01:27,240 : INFO : worker thread finished; awaiting finish of 0 more threads\n",
      "2022-06-16 14:01:27,242 : INFO : EPOCH - 26 : training on 9227204 raw words (8222915 effective words) took 18.6s, 443059 effective words/s\n",
      "2022-06-16 14:01:28,335 : INFO : EPOCH 27 - PROGRESS: at 5.32% examples, 403967 words/s, in_qsize 14, out_qsize 1\n",
      "2022-06-16 14:01:29,353 : INFO : EPOCH 27 - PROGRESS: at 10.53% examples, 412958 words/s, in_qsize 15, out_qsize 5\n",
      "2022-06-16 14:01:30,371 : INFO : EPOCH 27 - PROGRESS: at 16.05% examples, 423049 words/s, in_qsize 14, out_qsize 1\n",
      "2022-06-16 14:01:31,390 : INFO : EPOCH 27 - PROGRESS: at 21.68% examples, 430853 words/s, in_qsize 15, out_qsize 0\n",
      "2022-06-16 14:01:32,399 : INFO : EPOCH 27 - PROGRESS: at 27.20% examples, 434587 words/s, in_qsize 11, out_qsize 3\n",
      "2022-06-16 14:01:33,406 : INFO : EPOCH 27 - PROGRESS: at 32.95% examples, 440249 words/s, in_qsize 12, out_qsize 2\n",
      "2022-06-16 14:01:34,417 : INFO : EPOCH 27 - PROGRESS: at 38.57% examples, 442735 words/s, in_qsize 15, out_qsize 0\n",
      "2022-06-16 14:01:35,422 : INFO : EPOCH 27 - PROGRESS: at 44.07% examples, 443883 words/s, in_qsize 15, out_qsize 0\n",
      "2022-06-16 14:01:36,450 : INFO : EPOCH 27 - PROGRESS: at 49.70% examples, 444659 words/s, in_qsize 16, out_qsize 0\n",
      "2022-06-16 14:01:37,508 : INFO : EPOCH 27 - PROGRESS: at 55.43% examples, 444855 words/s, in_qsize 14, out_qsize 1\n",
      "2022-06-16 14:01:38,534 : INFO : EPOCH 27 - PROGRESS: at 61.28% examples, 447076 words/s, in_qsize 15, out_qsize 0\n",
      "2022-06-16 14:01:39,548 : INFO : EPOCH 27 - PROGRESS: at 66.37% examples, 444214 words/s, in_qsize 16, out_qsize 1\n",
      "2022-06-16 14:01:40,620 : INFO : EPOCH 27 - PROGRESS: at 72.10% examples, 443900 words/s, in_qsize 15, out_qsize 0\n",
      "2022-06-16 14:01:41,626 : INFO : EPOCH 27 - PROGRESS: at 77.52% examples, 443813 words/s, in_qsize 15, out_qsize 0\n",
      "2022-06-16 14:01:42,690 : INFO : EPOCH 27 - PROGRESS: at 83.07% examples, 443407 words/s, in_qsize 14, out_qsize 4\n",
      "2022-06-16 14:01:43,691 : INFO : EPOCH 27 - PROGRESS: at 88.59% examples, 443357 words/s, in_qsize 14, out_qsize 5\n",
      "2022-06-16 14:01:44,718 : INFO : EPOCH 27 - PROGRESS: at 94.69% examples, 445812 words/s, in_qsize 15, out_qsize 0\n",
      "2022-06-16 14:01:45,569 : INFO : worker thread finished; awaiting finish of 7 more threads\n",
      "2022-06-16 14:01:45,580 : INFO : worker thread finished; awaiting finish of 6 more threads\n",
      "2022-06-16 14:01:45,601 : INFO : worker thread finished; awaiting finish of 5 more threads\n",
      "2022-06-16 14:01:45,634 : INFO : worker thread finished; awaiting finish of 4 more threads\n",
      "2022-06-16 14:01:45,644 : INFO : worker thread finished; awaiting finish of 3 more threads\n",
      "2022-06-16 14:01:45,648 : INFO : worker thread finished; awaiting finish of 2 more threads\n",
      "2022-06-16 14:01:45,652 : INFO : worker thread finished; awaiting finish of 1 more threads\n",
      "2022-06-16 14:01:45,667 : INFO : worker thread finished; awaiting finish of 0 more threads\n",
      "2022-06-16 14:01:45,668 : INFO : EPOCH - 27 : training on 9227204 raw words (8222980 effective words) took 18.4s, 446573 effective words/s\n",
      "2022-06-16 14:01:46,694 : INFO : EPOCH 28 - PROGRESS: at 4.78% examples, 386895 words/s, in_qsize 13, out_qsize 2\n",
      "2022-06-16 14:01:47,723 : INFO : EPOCH 28 - PROGRESS: at 10.53% examples, 423369 words/s, in_qsize 14, out_qsize 4\n",
      "2022-06-16 14:01:48,724 : INFO : EPOCH 28 - PROGRESS: at 16.27% examples, 439125 words/s, in_qsize 15, out_qsize 0\n",
      "2022-06-16 14:01:49,739 : INFO : EPOCH 28 - PROGRESS: at 21.46% examples, 434680 words/s, in_qsize 12, out_qsize 3\n",
      "2022-06-16 14:01:50,774 : INFO : EPOCH 28 - PROGRESS: at 27.10% examples, 437346 words/s, in_qsize 14, out_qsize 1\n",
      "2022-06-16 14:01:51,821 : INFO : EPOCH 28 - PROGRESS: at 32.95% examples, 441145 words/s, in_qsize 15, out_qsize 0\n",
      "2022-06-16 14:01:52,844 : INFO : EPOCH 28 - PROGRESS: at 38.67% examples, 444047 words/s, in_qsize 15, out_qsize 0\n",
      "2022-06-16 14:01:53,858 : INFO : EPOCH 28 - PROGRESS: at 44.07% examples, 443460 words/s, in_qsize 14, out_qsize 1\n",
      "2022-06-16 14:01:54,886 : INFO : EPOCH 28 - PROGRESS: at 49.38% examples, 441379 words/s, in_qsize 15, out_qsize 1\n",
      "2022-06-16 14:01:55,942 : INFO : EPOCH 28 - PROGRESS: at 55.21% examples, 442880 words/s, in_qsize 15, out_qsize 0\n",
      "2022-06-16 14:01:56,953 : INFO : EPOCH 28 - PROGRESS: at 60.74% examples, 443465 words/s, in_qsize 11, out_qsize 4\n",
      "2022-06-16 14:01:57,955 : INFO : EPOCH 28 - PROGRESS: at 66.80% examples, 447897 words/s, in_qsize 14, out_qsize 0\n",
      "2022-06-16 14:01:58,955 : INFO : EPOCH 28 - PROGRESS: at 71.99% examples, 446346 words/s, in_qsize 14, out_qsize 1\n",
      "2022-06-16 14:01:59,968 : INFO : EPOCH 28 - PROGRESS: at 77.31% examples, 445231 words/s, in_qsize 15, out_qsize 0\n",
      "2022-06-16 14:02:01,106 : INFO : EPOCH 28 - PROGRESS: at 83.18% examples, 444542 words/s, in_qsize 15, out_qsize 3\n",
      "2022-06-16 14:02:02,079 : INFO : EPOCH 28 - PROGRESS: at 89.23% examples, 447655 words/s, in_qsize 15, out_qsize 0\n",
      "2022-06-16 14:02:03,101 : INFO : EPOCH 28 - PROGRESS: at 94.90% examples, 447956 words/s, in_qsize 13, out_qsize 2\n",
      "2022-06-16 14:02:03,883 : INFO : worker thread finished; awaiting finish of 7 more threads\n",
      "2022-06-16 14:02:03,887 : INFO : worker thread finished; awaiting finish of 6 more threads\n",
      "2022-06-16 14:02:03,900 : INFO : worker thread finished; awaiting finish of 5 more threads\n",
      "2022-06-16 14:02:03,908 : INFO : worker thread finished; awaiting finish of 4 more threads\n",
      "2022-06-16 14:02:03,912 : INFO : worker thread finished; awaiting finish of 3 more threads\n",
      "2022-06-16 14:02:03,919 : INFO : worker thread finished; awaiting finish of 2 more threads\n",
      "2022-06-16 14:02:03,932 : INFO : worker thread finished; awaiting finish of 1 more threads\n",
      "2022-06-16 14:02:03,947 : INFO : worker thread finished; awaiting finish of 0 more threads\n",
      "2022-06-16 14:02:03,948 : INFO : EPOCH - 28 : training on 9227204 raw words (8222616 effective words) took 18.3s, 450156 effective words/s\n",
      "2022-06-16 14:02:05,003 : INFO : EPOCH 29 - PROGRESS: at 5.22% examples, 412670 words/s, in_qsize 15, out_qsize 2\n",
      "2022-06-16 14:02:06,057 : INFO : EPOCH 29 - PROGRESS: at 11.19% examples, 438694 words/s, in_qsize 15, out_qsize 1\n",
      "2022-06-16 14:02:07,120 : INFO : EPOCH 29 - PROGRESS: at 16.92% examples, 443159 words/s, in_qsize 15, out_qsize 2\n",
      "2022-06-16 14:02:08,123 : INFO : EPOCH 29 - PROGRESS: at 22.66% examples, 447870 words/s, in_qsize 16, out_qsize 2\n",
      "2022-06-16 14:02:09,125 : INFO : EPOCH 29 - PROGRESS: at 28.61% examples, 455864 words/s, in_qsize 15, out_qsize 0\n",
      "2022-06-16 14:02:10,131 : INFO : EPOCH 29 - PROGRESS: at 33.70% examples, 449358 words/s, in_qsize 15, out_qsize 0\n",
      "2022-06-16 14:02:11,198 : INFO : EPOCH 29 - PROGRESS: at 39.22% examples, 445862 words/s, in_qsize 15, out_qsize 0\n",
      "2022-06-16 14:02:12,269 : INFO : EPOCH 29 - PROGRESS: at 45.05% examples, 446221 words/s, in_qsize 16, out_qsize 0\n",
      "2022-06-16 14:02:13,311 : INFO : EPOCH 29 - PROGRESS: at 50.46% examples, 444173 words/s, in_qsize 14, out_qsize 1\n",
      "2022-06-16 14:02:14,314 : INFO : EPOCH 29 - PROGRESS: at 56.18% examples, 446766 words/s, in_qsize 16, out_qsize 0\n",
      "2022-06-16 14:02:15,333 : INFO : EPOCH 29 - PROGRESS: at 61.60% examples, 445916 words/s, in_qsize 16, out_qsize 0\n",
      "2022-06-16 14:02:16,342 : INFO : EPOCH 29 - PROGRESS: at 67.02% examples, 445507 words/s, in_qsize 15, out_qsize 0\n",
      "2022-06-16 14:02:17,447 : INFO : EPOCH 29 - PROGRESS: at 72.64% examples, 443366 words/s, in_qsize 15, out_qsize 0\n",
      "2022-06-16 14:02:18,499 : INFO : EPOCH 29 - PROGRESS: at 78.51% examples, 444375 words/s, in_qsize 15, out_qsize 0\n",
      "2022-06-16 14:02:19,500 : INFO : EPOCH 29 - PROGRESS: at 84.05% examples, 444975 words/s, in_qsize 16, out_qsize 1\n",
      "2022-06-16 14:02:20,503 : INFO : EPOCH 29 - PROGRESS: at 89.13% examples, 443310 words/s, in_qsize 15, out_qsize 0\n",
      "2022-06-16 14:02:21,511 : INFO : EPOCH 29 - PROGRESS: at 94.69% examples, 443703 words/s, in_qsize 14, out_qsize 1\n",
      "2022-06-16 14:02:22,333 : INFO : worker thread finished; awaiting finish of 7 more threads\n",
      "2022-06-16 14:02:22,340 : INFO : worker thread finished; awaiting finish of 6 more threads\n",
      "2022-06-16 14:02:22,349 : INFO : worker thread finished; awaiting finish of 5 more threads\n",
      "2022-06-16 14:02:22,356 : INFO : worker thread finished; awaiting finish of 4 more threads\n",
      "2022-06-16 14:02:22,373 : INFO : worker thread finished; awaiting finish of 3 more threads\n",
      "2022-06-16 14:02:22,376 : INFO : worker thread finished; awaiting finish of 2 more threads\n",
      "2022-06-16 14:02:22,378 : INFO : worker thread finished; awaiting finish of 1 more threads\n",
      "2022-06-16 14:02:22,406 : INFO : worker thread finished; awaiting finish of 0 more threads\n",
      "2022-06-16 14:02:22,407 : INFO : EPOCH - 29 : training on 9227204 raw words (8222726 effective words) took 18.4s, 445874 effective words/s\n",
      "2022-06-16 14:02:23,465 : INFO : EPOCH 30 - PROGRESS: at 4.89% examples, 383659 words/s, in_qsize 15, out_qsize 0\n",
      "2022-06-16 14:02:24,466 : INFO : EPOCH 30 - PROGRESS: at 10.53% examples, 422537 words/s, in_qsize 14, out_qsize 1\n",
      "2022-06-16 14:02:25,485 : INFO : EPOCH 30 - PROGRESS: at 16.59% examples, 444756 words/s, in_qsize 16, out_qsize 0\n",
      "2022-06-16 14:02:26,492 : INFO : EPOCH 30 - PROGRESS: at 21.79% examples, 439901 words/s, in_qsize 16, out_qsize 1\n",
      "2022-06-16 14:02:27,499 : INFO : EPOCH 30 - PROGRESS: at 27.21% examples, 440380 words/s, in_qsize 13, out_qsize 2\n",
      "2022-06-16 14:02:28,518 : INFO : EPOCH 30 - PROGRESS: at 33.06% examples, 446553 words/s, in_qsize 13, out_qsize 3\n",
      "2022-06-16 14:02:29,509 : INFO : EPOCH 30 - PROGRESS: at 38.24% examples, 443693 words/s, in_qsize 15, out_qsize 0\n",
      "2022-06-16 14:02:30,622 : INFO : EPOCH 30 - PROGRESS: at 44.07% examples, 442138 words/s, in_qsize 15, out_qsize 0\n",
      "2022-06-16 14:02:31,678 : INFO : EPOCH 30 - PROGRESS: at 49.59% examples, 440800 words/s, in_qsize 16, out_qsize 1\n",
      "2022-06-16 14:02:32,682 : INFO : EPOCH 30 - PROGRESS: at 55.21% examples, 442848 words/s, in_qsize 15, out_qsize 0\n",
      "2022-06-16 14:02:33,729 : INFO : EPOCH 30 - PROGRESS: at 60.85% examples, 442806 words/s, in_qsize 14, out_qsize 1\n",
      "2022-06-16 14:02:34,732 : INFO : EPOCH 30 - PROGRESS: at 66.91% examples, 447238 words/s, in_qsize 16, out_qsize 0\n",
      "2022-06-16 14:02:35,756 : INFO : EPOCH 30 - PROGRESS: at 72.00% examples, 444262 words/s, in_qsize 11, out_qsize 4\n",
      "2022-06-16 14:02:36,763 : INFO : EPOCH 30 - PROGRESS: at 78.07% examples, 447840 words/s, in_qsize 15, out_qsize 0\n",
      "2022-06-16 14:02:37,802 : INFO : EPOCH 30 - PROGRESS: at 83.62% examples, 447143 words/s, in_qsize 15, out_qsize 0\n",
      "2022-06-16 14:02:38,804 : INFO : EPOCH 30 - PROGRESS: at 89.56% examples, 449666 words/s, in_qsize 16, out_qsize 0\n",
      "2022-06-16 14:02:39,828 : INFO : EPOCH 30 - PROGRESS: at 94.58% examples, 447035 words/s, in_qsize 16, out_qsize 1\n",
      "2022-06-16 14:02:40,632 : INFO : worker thread finished; awaiting finish of 7 more threads\n",
      "2022-06-16 14:02:40,646 : INFO : worker thread finished; awaiting finish of 6 more threads\n",
      "2022-06-16 14:02:40,696 : INFO : worker thread finished; awaiting finish of 5 more threads\n",
      "2022-06-16 14:02:40,715 : INFO : worker thread finished; awaiting finish of 4 more threads\n",
      "2022-06-16 14:02:40,720 : INFO : worker thread finished; awaiting finish of 3 more threads\n",
      "2022-06-16 14:02:40,724 : INFO : worker thread finished; awaiting finish of 2 more threads\n",
      "2022-06-16 14:02:40,726 : INFO : worker thread finished; awaiting finish of 1 more threads\n",
      "2022-06-16 14:02:40,727 : INFO : worker thread finished; awaiting finish of 0 more threads\n",
      "2022-06-16 14:02:40,729 : INFO : EPOCH - 30 : training on 9227204 raw words (8222626 effective words) took 18.3s, 449126 effective words/s\n",
      "2022-06-16 14:02:41,761 : INFO : EPOCH 31 - PROGRESS: at 4.78% examples, 387502 words/s, in_qsize 14, out_qsize 1\n",
      "2022-06-16 14:02:42,766 : INFO : EPOCH 31 - PROGRESS: at 10.75% examples, 437704 words/s, in_qsize 15, out_qsize 0\n",
      "2022-06-16 14:02:43,821 : INFO : EPOCH 31 - PROGRESS: at 16.16% examples, 432239 words/s, in_qsize 15, out_qsize 0\n",
      "2022-06-16 14:02:44,845 : INFO : EPOCH 31 - PROGRESS: at 21.68% examples, 435139 words/s, in_qsize 14, out_qsize 1\n",
      "2022-06-16 14:02:45,847 : INFO : EPOCH 31 - PROGRESS: at 27.31% examples, 440451 words/s, in_qsize 15, out_qsize 0\n",
      "2022-06-16 14:02:46,872 : INFO : EPOCH 31 - PROGRESS: at 33.05% examples, 445283 words/s, in_qsize 15, out_qsize 0\n",
      "2022-06-16 14:02:47,901 : INFO : EPOCH 31 - PROGRESS: at 38.57% examples, 443504 words/s, in_qsize 13, out_qsize 2\n",
      "2022-06-16 14:02:48,904 : INFO : EPOCH 31 - PROGRESS: at 44.18% examples, 445761 words/s, in_qsize 14, out_qsize 1\n",
      "2022-06-16 14:02:49,987 : INFO : EPOCH 31 - PROGRESS: at 50.02% examples, 445532 words/s, in_qsize 15, out_qsize 0\n",
      "2022-06-16 14:02:50,988 : INFO : EPOCH 31 - PROGRESS: at 55.53% examples, 446383 words/s, in_qsize 14, out_qsize 0\n",
      "2022-06-16 14:02:52,007 : INFO : EPOCH 31 - PROGRESS: at 61.28% examples, 447935 words/s, in_qsize 14, out_qsize 1\n",
      "2022-06-16 14:02:53,053 : INFO : EPOCH 31 - PROGRESS: at 66.91% examples, 447499 words/s, in_qsize 14, out_qsize 1\n",
      "2022-06-16 14:02:54,065 : INFO : EPOCH 31 - PROGRESS: at 72.21% examples, 446245 words/s, in_qsize 15, out_qsize 0\n",
      "2022-06-16 14:02:55,077 : INFO : EPOCH 31 - PROGRESS: at 77.85% examples, 447022 words/s, in_qsize 15, out_qsize 3\n",
      "2022-06-16 14:02:56,091 : INFO : EPOCH 31 - PROGRESS: at 83.50% examples, 447680 words/s, in_qsize 16, out_qsize 1\n",
      "2022-06-16 14:02:57,096 : INFO : EPOCH 31 - PROGRESS: at 88.91% examples, 447384 words/s, in_qsize 11, out_qsize 4\n",
      "2022-06-16 14:02:58,127 : INFO : EPOCH 31 - PROGRESS: at 94.91% examples, 449002 words/s, in_qsize 15, out_qsize 0\n",
      "2022-06-16 14:02:58,886 : INFO : worker thread finished; awaiting finish of 7 more threads\n",
      "2022-06-16 14:02:58,889 : INFO : worker thread finished; awaiting finish of 6 more threads\n",
      "2022-06-16 14:02:58,929 : INFO : worker thread finished; awaiting finish of 5 more threads\n",
      "2022-06-16 14:02:58,933 : INFO : worker thread finished; awaiting finish of 4 more threads\n",
      "2022-06-16 14:02:58,953 : INFO : worker thread finished; awaiting finish of 3 more threads\n",
      "2022-06-16 14:02:58,956 : INFO : worker thread finished; awaiting finish of 2 more threads\n",
      "2022-06-16 14:02:58,971 : INFO : worker thread finished; awaiting finish of 1 more threads\n",
      "2022-06-16 14:02:58,972 : INFO : worker thread finished; awaiting finish of 0 more threads\n",
      "2022-06-16 14:02:58,973 : INFO : EPOCH - 31 : training on 9227204 raw words (8221855 effective words) took 18.2s, 451186 effective words/s\n",
      "2022-06-16 14:03:00,006 : INFO : EPOCH 32 - PROGRESS: at 4.67% examples, 376453 words/s, in_qsize 13, out_qsize 3\n",
      "2022-06-16 14:03:01,161 : INFO : EPOCH 32 - PROGRESS: at 10.75% examples, 411840 words/s, in_qsize 15, out_qsize 2\n",
      "2022-06-16 14:03:02,196 : INFO : EPOCH 32 - PROGRESS: at 16.38% examples, 419432 words/s, in_qsize 16, out_qsize 0\n",
      "2022-06-16 14:03:03,247 : INFO : EPOCH 32 - PROGRESS: at 22.33% examples, 431071 words/s, in_qsize 15, out_qsize 0\n",
      "2022-06-16 14:03:04,250 : INFO : EPOCH 32 - PROGRESS: at 27.64% examples, 431885 words/s, in_qsize 15, out_qsize 0\n",
      "2022-06-16 14:03:05,322 : INFO : EPOCH 32 - PROGRESS: at 33.70% examples, 437542 words/s, in_qsize 15, out_qsize 0\n",
      "2022-06-16 14:03:06,363 : INFO : EPOCH 32 - PROGRESS: at 39.65% examples, 442241 words/s, in_qsize 16, out_qsize 0\n",
      "2022-06-16 14:03:07,371 : INFO : EPOCH 32 - PROGRESS: at 45.05% examples, 442155 words/s, in_qsize 14, out_qsize 1\n",
      "2022-06-16 14:03:08,374 : INFO : EPOCH 32 - PROGRESS: at 50.67% examples, 444296 words/s, in_qsize 15, out_qsize 0\n",
      "2022-06-16 14:03:09,396 : INFO : EPOCH 32 - PROGRESS: at 56.51% examples, 446949 words/s, in_qsize 16, out_qsize 0\n",
      "2022-06-16 14:03:10,398 : INFO : EPOCH 32 - PROGRESS: at 61.71% examples, 445162 words/s, in_qsize 14, out_qsize 1\n",
      "2022-06-16 14:03:11,431 : INFO : EPOCH 32 - PROGRESS: at 66.91% examples, 442551 words/s, in_qsize 16, out_qsize 3\n",
      "2022-06-16 14:03:12,432 : INFO : EPOCH 32 - PROGRESS: at 72.43% examples, 443398 words/s, in_qsize 15, out_qsize 0\n",
      "2022-06-16 14:03:13,485 : INFO : EPOCH 32 - PROGRESS: at 78.07% examples, 443127 words/s, in_qsize 15, out_qsize 3\n",
      "2022-06-16 14:03:14,583 : INFO : EPOCH 32 - PROGRESS: at 84.15% examples, 443900 words/s, in_qsize 13, out_qsize 2\n",
      "2022-06-16 14:03:15,587 : INFO : EPOCH 32 - PROGRESS: at 90.11% examples, 446526 words/s, in_qsize 14, out_qsize 1\n",
      "2022-06-16 14:03:16,611 : INFO : EPOCH 32 - PROGRESS: at 95.88% examples, 447364 words/s, in_qsize 14, out_qsize 0\n",
      "2022-06-16 14:03:17,223 : INFO : worker thread finished; awaiting finish of 7 more threads\n",
      "2022-06-16 14:03:17,264 : INFO : worker thread finished; awaiting finish of 6 more threads\n",
      "2022-06-16 14:03:17,271 : INFO : worker thread finished; awaiting finish of 5 more threads\n",
      "2022-06-16 14:03:17,277 : INFO : worker thread finished; awaiting finish of 4 more threads\n",
      "2022-06-16 14:03:17,284 : INFO : worker thread finished; awaiting finish of 3 more threads\n",
      "2022-06-16 14:03:17,293 : INFO : worker thread finished; awaiting finish of 2 more threads\n",
      "2022-06-16 14:03:17,304 : INFO : worker thread finished; awaiting finish of 1 more threads\n",
      "2022-06-16 14:03:17,314 : INFO : worker thread finished; awaiting finish of 0 more threads\n",
      "2022-06-16 14:03:17,315 : INFO : EPOCH - 32 : training on 9227204 raw words (8222500 effective words) took 18.3s, 448709 effective words/s\n",
      "2022-06-16 14:03:17,319 : INFO : training on a 295270528 raw words (263126762 effective words) took 618.8s, 425234 effective words/s\n"
     ]
    },
    {
     "output_type": "stream",
     "name": "stdout",
     "text": [
      "CPU times: user 19min 11s, sys: 6.82 s, total: 19min 18s\n",
      "Wall time: 10min 18s\n"
     ]
    },
    {
     "output_type": "execute_result",
     "data": {
      "text/plain": [
       "(263126762, 295270528)"
      ]
     },
     "metadata": {},
     "execution_count": 47
    }
   ],
   "source": [
    "%%time\n",
    "w2v_model.train(documents, total_examples=len(documents), epochs=W2V_EPOCH)"
   ]
  },
  {
   "cell_type": "code",
   "execution_count": 48,
   "metadata": {
    "colab": {
     "base_uri": "https://localhost:8080/"
    },
    "id": "mSC84_3u8GtY",
    "outputId": "2be6919c-e913-434e-9113-911cb0465929",
    "pycharm": {
     "name": "#%%\n"
    }
   },
   "outputs": [
    {
     "output_type": "stream",
     "name": "stderr",
     "text": [
      "/usr/local/lib/python3.7/dist-packages/ipykernel_launcher.py:1: DeprecationWarning: Call to deprecated `most_similar` (Method will be removed in 4.0.0, use self.wv.most_similar() instead).\n",
      "  \"\"\"Entry point for launching an IPython kernel.\n",
      "2022-06-16 14:03:17,331 : INFO : precomputing L2-norms of word weight vectors\n"
     ]
    },
    {
     "output_type": "execute_result",
     "data": {
      "text/plain": [
       "[('adore', 0.6716060638427734),\n",
       " ('loves', 0.6455568075180054),\n",
       " ('luv', 0.6419321298599243),\n",
       " ('loved', 0.6197524666786194),\n",
       " ('looove', 0.6081500053405762),\n",
       " ('loooove', 0.5888406038284302),\n",
       " ('amazing', 0.5709539651870728),\n",
       " ('loveee', 0.5574404001235962),\n",
       " ('sings', 0.5261883735656738),\n",
       " ('lovee', 0.5181275606155396)]"
      ]
     },
     "metadata": {},
     "execution_count": 48
    }
   ],
   "source": [
    "w2v_model.most_similar(\"love\")"
   ]
  },
  {
   "cell_type": "code",
   "execution_count": 49,
   "metadata": {
    "colab": {
     "base_uri": "https://localhost:8080/"
    },
    "id": "RYcW3302Y_r9",
    "outputId": "db974860-fc20-47ad-dd25-6b5b3b9f856d",
    "pycharm": {
     "name": "#%%\n"
    }
   },
   "outputs": [
    {
     "output_type": "stream",
     "name": "stdout",
     "text": [
      "Total words 290419\n",
      "CPU times: user 17.5 s, sys: 127 ms, total: 17.7 s\n",
      "Wall time: 17.6 s\n"
     ]
    }
   ],
   "source": [
    "%%time\n",
    "tokenizer = Tokenizer()\n",
    "tokenizer.fit_on_texts(df_train.text)\n",
    "\n",
    "vocab_size = len(tokenizer.word_index) + 1\n",
    "print(\"Total words\", vocab_size)"
   ]
  },
  {
   "cell_type": "code",
   "execution_count": 50,
   "metadata": {
    "colab": {
     "base_uri": "https://localhost:8080/"
    },
    "id": "LP_nHVJmY_l0",
    "outputId": "546a560a-c91a-4e1b-c353-c718d65e236c",
    "pycharm": {
     "name": "#%%\n"
    }
   },
   "outputs": [
    {
     "output_type": "stream",
     "name": "stdout",
     "text": [
      "CPU times: user 23.4 s, sys: 479 ms, total: 23.8 s\n",
      "Wall time: 23.8 s\n"
     ]
    }
   ],
   "source": [
    "%%time\n",
    "x_train = pad_sequences(tokenizer.texts_to_sequences(df_train.text), maxlen=120)\n",
    "x_test = pad_sequences(tokenizer.texts_to_sequences(df_test.text), maxlen=120)"
   ]
  },
  {
   "cell_type": "code",
   "execution_count": 51,
   "metadata": {
    "colab": {
     "base_uri": "https://localhost:8080/"
    },
    "id": "rKdE1zh7Y_bq",
    "outputId": "86dd9355-bb46-4a97-d58c-4d103b4bd63a",
    "pycharm": {
     "name": "#%%\n"
    }
   },
   "outputs": [
    {
     "output_type": "execute_result",
     "data": {
      "text/plain": [
       "['POSITIVE', 'NEGATIVE', 'NEUTRAL']"
      ]
     },
     "metadata": {},
     "execution_count": 51
    }
   ],
   "source": [
    "labels = df_train.target.unique().tolist()\n",
    "labels.append(NEUTRAL)\n",
    "labels"
   ]
  },
  {
   "cell_type": "code",
   "execution_count": 52,
   "metadata": {
    "colab": {
     "base_uri": "https://localhost:8080/"
    },
    "id": "ALM1Cq3BbWBB",
    "outputId": "7520636a-e402-4220-8216-0ca5e6208f8a",
    "pycharm": {
     "name": "#%%\n"
    }
   },
   "outputs": [
    {
     "output_type": "stream",
     "name": "stdout",
     "text": [
      "y_train (1280000, 1)\n",
      "y_test (320000, 1)\n"
     ]
    }
   ],
   "source": [
    "encoder = LabelEncoder()\n",
    "encoder.fit(df_train.target.tolist())\n",
    "\n",
    "y_train = encoder.transform(df_train.target.tolist())\n",
    "y_test = encoder.transform(df_test.target.tolist())\n",
    "\n",
    "y_train = y_train.reshape(-1,1)\n",
    "y_test = y_test.reshape(-1,1)\n",
    "\n",
    "print(\"y_train\",y_train.shape)\n",
    "print(\"y_test\",y_test.shape)"
   ]
  },
  {
   "cell_type": "code",
   "execution_count": 53,
   "metadata": {
    "colab": {
     "base_uri": "https://localhost:8080/"
    },
    "id": "KaSCZNCabV8c",
    "outputId": "40143ab5-50fb-4142-d341-53c196bbb22e",
    "pycharm": {
     "name": "#%%\n"
    }
   },
   "outputs": [
    {
     "output_type": "stream",
     "name": "stdout",
     "text": [
      "x_train (1280000, 120)\n",
      "y_train (1280000, 1)\n",
      "\n",
      "x_test (320000, 120)\n",
      "y_test (320000, 1)\n"
     ]
    }
   ],
   "source": [
    "print(\"x_train\", x_train.shape)\n",
    "print(\"y_train\", y_train.shape)\n",
    "print()\n",
    "print(\"x_test\", x_test.shape)\n",
    "print(\"y_test\", y_test.shape)"
   ]
  },
  {
   "cell_type": "code",
   "execution_count": 54,
   "metadata": {
    "colab": {
     "base_uri": "https://localhost:8080/"
    },
    "id": "IyPQRN-jbV1F",
    "outputId": "58ccdf5d-700a-48bf-96c0-143959dbef2c",
    "pycharm": {
     "name": "#%%\n"
    }
   },
   "outputs": [
    {
     "output_type": "execute_result",
     "data": {
      "text/plain": [
       "array([[1],\n",
       "       [1],\n",
       "       [1],\n",
       "       [0],\n",
       "       [1],\n",
       "       [1],\n",
       "       [1],\n",
       "       [1],\n",
       "       [1],\n",
       "       [1]])"
      ]
     },
     "metadata": {},
     "execution_count": 54
    }
   ],
   "source": [
    "y_train[:10]"
   ]
  },
  {
   "cell_type": "code",
   "execution_count": 55,
   "metadata": {
    "colab": {
     "base_uri": "https://localhost:8080/"
    },
    "id": "IVhdbh4Dbc0M",
    "outputId": "1ce5256e-431b-4c77-d0a2-5b83ad440259",
    "pycharm": {
     "name": "#%%\n"
    }
   },
   "outputs": [
    {
     "output_type": "stream",
     "name": "stdout",
     "text": [
      "(290419, 120)\n"
     ]
    }
   ],
   "source": [
    "embedding_matrix = np.zeros((vocab_size, 120))\n",
    "for word, i in tokenizer.word_index.items():\n",
    "  if word in w2v_model.wv:\n",
    "    embedding_matrix[i] = w2v_model.wv[word]\n",
    "print(embedding_matrix.shape)"
   ]
  },
  {
   "cell_type": "code",
   "execution_count": 56,
   "metadata": {
    "id": "VDkwIc9Fbcu4",
    "pycharm": {
     "name": "#%%\n"
    }
   },
   "outputs": [],
   "source": [
    "embedding_layer = Embedding(vocab_size, 120, weights=[embedding_matrix], input_length=120, trainable=False)"
   ]
  },
  {
   "cell_type": "code",
   "execution_count": 57,
   "metadata": {
    "colab": {
     "base_uri": "https://localhost:8080/"
    },
    "id": "rjyWBmwzbcqQ",
    "outputId": "8751b099-48e9-4527-bec6-1c8712ea4e73",
    "pycharm": {
     "name": "#%%\n"
    }
   },
   "outputs": [
    {
     "output_type": "stream",
     "name": "stdout",
     "text": [
      "Model: \"sequential_1\"\n",
      "_________________________________________________________________\n",
      " Layer (type)                Output Shape              Param #   \n",
      "=================================================================\n",
      " embedding_1 (Embedding)     (None, 120, 120)          34850280  \n",
      "                                                                 \n",
      " dropout_1 (Dropout)         (None, 120, 120)          0         \n",
      "                                                                 \n",
      " lstm_1 (LSTM)               (None, 50)                34200     \n",
      "                                                                 \n",
      " dense_1 (Dense)             (None, 1)                 51        \n",
      "                                                                 \n",
      "=================================================================\n",
      "Total params: 34,884,531\n",
      "Trainable params: 34,251\n",
      "Non-trainable params: 34,850,280\n",
      "_________________________________________________________________\n"
     ]
    }
   ],
   "source": [
    "model = Sequential()\n",
    "model.add(embedding_layer)\n",
    "model.add(Dropout(0.5))\n",
    "model.add(LSTM(50, dropout=0.5, recurrent_dropout=0.5))\n",
    "model.add(Dense(1, activation='sigmoid'))\n",
    "\n",
    "model.summary()"
   ]
  },
  {
   "cell_type": "code",
   "execution_count": 58,
   "metadata": {
    "id": "yQtT2cQ8bcho",
    "pycharm": {
     "name": "#%%\n"
    }
   },
   "outputs": [],
   "source": [
    "model.compile(loss='binary_crossentropy',\n",
    "              optimizer=\"adam\",\n",
    "              metrics=['accuracy'])"
   ]
  },
  {
   "cell_type": "code",
   "execution_count": 59,
   "metadata": {
    "id": "5WI3VQJEb0sm",
    "pycharm": {
     "name": "#%%\n"
    }
   },
   "outputs": [],
   "source": [
    "callbacks = [ ReduceLROnPlateau(monitor='val_loss', patience=5, cooldown=0),\n",
    "              EarlyStopping(monitor='val_accuracy', min_delta=1e-4, patience=5)]"
   ]
  },
  {
   "cell_type": "code",
   "execution_count": null,
   "metadata": {
    "colab": {
     "base_uri": "https://localhost:8080/"
    },
    "id": "w3AQm9ODb0mP",
    "outputId": "484e0e18-8b1f-451e-e5b0-e22c4927631b",
    "pycharm": {
     "name": "#%%\n"
    }
   },
   "outputs": [
    {
     "output_type": "stream",
     "name": "stdout",
     "text": [
      "Epoch 1/10\n",
      " 302/1125 [=======>......................] - ETA: 23:22 - loss: 0.6053 - accuracy: 0.6647"
     ]
    }
   ],
   "source": [
    "%%time\n",
    "history = model.fit(x_train, y_train,\n",
    "                    batch_size=BATCH_SIZE,\n",
    "                    epochs=10,\n",
    "                    validation_split=0.1,\n",
    "                    verbose=1,\n",
    "                    callbacks=callbacks)"
   ]
  },
  {
   "cell_type": "code",
   "execution_count": null,
   "metadata": {
    "id": "z14rnaZfmmWI",
    "pycharm": {
     "name": "#%%\n"
    }
   },
   "outputs": [],
   "source": [
    "%%time\n",
    "score = model.evaluate(x_test, y_test, batch_size=BATCH_SIZE)\n",
    "print()\n",
    "print(\"ACCURACY:\",score[1])\n",
    "print(\"LOSS:\",score[0])"
   ]
  },
  {
   "cell_type": "code",
   "execution_count": null,
   "metadata": {
    "id": "jW3xUkPPb0fU",
    "pycharm": {
     "name": "#%%\n"
    }
   },
   "outputs": [],
   "source": [
    "acc = history.history['accuracy']\n",
    "val_acc = history.history['val_accuracy']\n",
    "loss = history.history['loss']\n",
    "val_loss = history.history['val_loss']\n",
    " \n",
    "epochs = range(len(acc))\n",
    " \n",
    "plt.plot(epochs, acc, 'b', label='Training acc')\n",
    "plt.plot(epochs, val_acc, 'r', label='Validation acc')\n",
    "plt.title('Training and validation accuracy')\n",
    "plt.legend()\n",
    " \n",
    "plt.figure()\n",
    " \n",
    "plt.plot(epochs, loss, 'b', label='Training loss')\n",
    "plt.plot(epochs, val_loss, 'r', label='Validation loss')\n",
    "plt.title('Training and validation loss')\n",
    "plt.legend()\n",
    " \n",
    "plt.show()"
   ]
  },
  {
   "cell_type": "code",
   "execution_count": null,
   "metadata": {
    "id": "WcMgs0c0wd56",
    "pycharm": {
     "name": "#%%\n"
    }
   },
   "outputs": [],
   "source": [
    "def decode_sentiment(score, include_neutral=True):\n",
    "    if include_neutral:        \n",
    "        label = NEUTRAL\n",
    "        if score <= SENTIMENT_THRESHOLDS[0]:\n",
    "            label = NEGATIVE\n",
    "        elif score >= SENTIMENT_THRESHOLDS[1]:\n",
    "            label = POSITIVE\n",
    "\n",
    "        return label\n",
    "    else:\n",
    "        return NEGATIVE if score < 0.5 else POSITIVE"
   ]
  },
  {
   "cell_type": "code",
   "execution_count": null,
   "metadata": {
    "id": "8kZ-uCBVwd1Y",
    "pycharm": {
     "name": "#%%\n"
    }
   },
   "outputs": [],
   "source": [
    "def predict(text, include_neutral=True):\n",
    "    start_at = time.time()\n",
    "    # Tokenize text\n",
    "    x_test = pad_sequences(tokenizer.texts_to_sequences([text]), maxlen=120)\n",
    "    # Predict\n",
    "    score = model.predict([x_test])[0]\n",
    "    # Decode sentiment\n",
    "    label = decode_sentiment(score, include_neutral=include_neutral)\n",
    "\n",
    "    return {\"label\": label, \"score\": float(score),\n",
    "       \"elapsed_time\": time.time()-start_at}  "
   ]
  },
  {
   "cell_type": "code",
   "execution_count": null,
   "metadata": {
    "id": "nFNZBy6pwdxe",
    "pycharm": {
     "name": "#%%\n"
    }
   },
   "outputs": [],
   "source": [
    "predict(\"I love this world\")"
   ]
  },
  {
   "cell_type": "code",
   "execution_count": null,
   "metadata": {
    "id": "9cvN6MU5whLj",
    "pycharm": {
     "name": "#%%\n"
    }
   },
   "outputs": [],
   "source": [
    "predict(\"I do enjoy my life\")"
   ]
  },
  {
   "cell_type": "code",
   "execution_count": null,
   "metadata": {
    "id": "-p8-KiqzwhJq",
    "pycharm": {
     "name": "#%%\n"
    }
   },
   "outputs": [],
   "source": [
    "predict(\"I love mathematics\")"
   ]
  },
  {
   "cell_type": "code",
   "execution_count": null,
   "metadata": {
    "id": "5w_qOjJqwlo7",
    "pycharm": {
     "name": "#%%\n"
    }
   },
   "outputs": [],
   "source": [
    "%%time\n",
    "y_pred_1d = []\n",
    "y_test_1d = list(df_test.target)\n",
    "scores = model.predict(x_test, verbose=1, batch_size=8000)\n",
    "y_pred_1d = [decode_sentiment(score, include_neutral=False) for score in scores]"
   ]
  },
  {
   "cell_type": "code",
   "execution_count": null,
   "metadata": {
    "id": "8O1CWRB1wllB",
    "pycharm": {
     "name": "#%%\n"
    }
   },
   "outputs": [],
   "source": [
    "def plot_confusion_matrix(cm, classes,\n",
    "                          title='Confusion matrix',\n",
    "                          cmap=plt.cm.Blues):\n",
    "    \"\"\"\n",
    "    This function prints and plots the confusion matrix.\n",
    "    Normalization can be applied by setting `normalize=True`.\n",
    "    \"\"\"\n",
    "\n",
    "    cm = cm.astype('float') / cm.sum(axis=1)[:, np.newaxis]\n",
    "\n",
    "    plt.imshow(cm, interpolation='nearest', cmap=cmap)\n",
    "    plt.title(title, fontsize=30)\n",
    "    plt.colorbar()\n",
    "    tick_marks = np.arange(len(classes))\n",
    "    plt.xticks(tick_marks, classes, rotation=90, fontsize=22)\n",
    "    plt.yticks(tick_marks, classes, fontsize=22)\n",
    "\n",
    "    fmt = '.2f'\n",
    "    thresh = cm.max() / 2.\n",
    "    for i, j in itertools.product(range(cm.shape[0]), range(cm.shape[1])):\n",
    "        plt.text(j, i, format(cm[i, j], fmt),\n",
    "                 horizontalalignment=\"center\",\n",
    "                 color=\"white\" if cm[i, j] > thresh else \"black\")\n",
    "\n",
    "    plt.ylabel('True label', fontsize=25)\n",
    "    plt.xlabel('Predicted label', fontsize=25)"
   ]
  },
  {
   "cell_type": "code",
   "execution_count": null,
   "metadata": {
    "id": "1wz7nVOswnaZ",
    "pycharm": {
     "name": "#%%\n"
    }
   },
   "outputs": [],
   "source": [
    "cnf_matrix = confusion_matrix(y_test_1d, y_pred_1d)\n",
    "plt.figure(figsize=(12,12))\n",
    "plot_confusion_matrix(cnf_matrix, classes=df_train.target.unique(), title=\"Confusion matrix\")\n",
    "plt.show()"
   ]
  },
  {
   "cell_type": "code",
   "execution_count": null,
   "metadata": {
    "id": "64oMsZCDwnW6",
    "pycharm": {
     "name": "#%%\n"
    }
   },
   "outputs": [],
   "source": [
    "print(classification_report(y_test_1d, y_pred_1d))"
   ]
  },
  {
   "cell_type": "code",
   "execution_count": null,
   "metadata": {
    "id": "qY_XoPPpwnUP",
    "pycharm": {
     "name": "#%%\n"
    }
   },
   "outputs": [],
   "source": [
    "accuracy_score(y_test_1d, y_pred_1d)"
   ]
  },
  {
   "cell_type": "code",
   "execution_count": null,
   "metadata": {
    "id": "Tj8aMm8KwnQm",
    "pycharm": {
     "name": "#%%\n"
    }
   },
   "outputs": [],
   "source": [
    "model.save(KERAS_MODEL)\n",
    "w2v_model.save(WORD2VEC_MODEL)\n",
    "model.save_weights('model_weights.h5')\n",
    "pickle.dump(tokenizer, open(TOKENIZER_MODEL, \"wb\"), protocol=0)\n",
    "pickle.dump(encoder, open(ENCODER_MODEL, \"wb\"), protocol=0)"
   ]
  }
 ],
 "metadata": {
  "colab": {
   "collapsed_sections": [],
   "name": "SentimentAnalysis.ipynb",
   "provenance": []
  },
  "kernelspec": {
   "display_name": "Python 3",
   "name": "python3"
  },
  "language_info": {
   "name": "python"
  }
 },
 "nbformat": 4,
 "nbformat_minor": 0
}